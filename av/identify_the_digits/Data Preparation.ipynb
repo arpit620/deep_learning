{
 "cells": [
  {
   "cell_type": "markdown",
   "metadata": {},
   "source": [
    "## Data Prep"
   ]
  },
  {
   "cell_type": "markdown",
   "metadata": {},
   "source": [
    "Raw data can be downloaded from the following link:<br>\n",
    "https://datahack.analyticsvidhya.com/contest/practice-problem-identify-the-digits/\n",
    "\n",
    "\n",
    "***"
   ]
  },
  {
   "cell_type": "markdown",
   "metadata": {},
   "source": [
    "- This notebook is part of sturcting the data in the required format.\n",
    "- As part of the hackathon we are given all images in one folder, while some CNN Architecture deals with the data in a different way where we need to have different folders for each of the class category.\n",
    "- Here we will be splitting the raw data files into different folders\n"
   ]
  },
  {
   "cell_type": "markdown",
   "metadata": {},
   "source": [
    "*** \n",
    "- Loading up all the images with their scaled up version can eat up way more memory than what you can imagine even for dataset like MNIST.\n",
    "- So to deal with larger dataset, instead of loading data at one go, we can use \"flow_from_directory\" which processes the images in batches and so can process any amount of images"
   ]
  },
  {
   "cell_type": "code",
   "execution_count": 1,
   "metadata": {},
   "outputs": [],
   "source": [
    "# Create folder structure for available data"
   ]
  },
  {
   "cell_type": "code",
   "execution_count": 2,
   "metadata": {},
   "outputs": [],
   "source": [
    "from shutil import copyfile, move, rmtree"
   ]
  },
  {
   "cell_type": "code",
   "execution_count": 3,
   "metadata": {},
   "outputs": [],
   "source": [
    "import os\n",
    "import numpy as np\n",
    "import pandas as pd"
   ]
  },
  {
   "cell_type": "markdown",
   "metadata": {},
   "source": [
    "Rename csv files to train and test respectively"
   ]
  },
  {
   "cell_type": "code",
   "execution_count": 5,
   "metadata": {},
   "outputs": [],
   "source": [
    "# Location of the data extracted at\n",
    "location='/home/arpit/notebooks/data/av/mnist/'"
   ]
  },
  {
   "cell_type": "code",
   "execution_count": 6,
   "metadata": {},
   "outputs": [],
   "source": [
    "train_raw=pd.read_csv(location + 'train.csv')\n",
    "test_raw=pd.read_csv(location + 'test.csv')"
   ]
  },
  {
   "cell_type": "code",
   "execution_count": 7,
   "metadata": {},
   "outputs": [
    {
     "data": {
      "text/plain": [
       "[4, 9, 1, 7, 3, 2, 6, 0, 8, 5]"
      ]
     },
     "execution_count": 7,
     "metadata": {},
     "output_type": "execute_result"
    }
   ],
   "source": [
    "# Get the list of available classes/ labels\n",
    "labels = list(train_raw.label.unique())\n",
    "labels"
   ]
  },
  {
   "cell_type": "code",
   "execution_count": 8,
   "metadata": {},
   "outputs": [],
   "source": [
    "# Clean the directories\n",
    "def clean_data():\n",
    "    os.makedirs(\"data/train\")\n",
    "    os.makedirs(\"data/validation\")\n",
    "    os.makedirs(\"data/test\")\n",
    "    rmtree('data/train')\n",
    "    rmtree('data/validation')   \n",
    "    rmtree('data/test')"
   ]
  },
  {
   "cell_type": "code",
   "execution_count": 10,
   "metadata": {},
   "outputs": [],
   "source": [
    "# Creates up the required folder sturcture for train, test, validation\n",
    "def create_folders(labels):\n",
    "\n",
    "    try:\n",
    "        if not os.path.exists(\"data\"):\n",
    "            os.makedirs(\"data/train\")\n",
    "            os.makedirs(\"data/validation\")\n",
    "            os.makedirs(\"data/test\")\n",
    "        for digit in labels:\n",
    "            directory = 'data/train/' + str(digit)\n",
    "            directory_valid = 'data/validation/' + str(digit)\n",
    "            if not os.path.exists(directory):\n",
    "                os.makedirs(directory)\n",
    "            if not os.path.exists(directory_valid):\n",
    "                os.makedirs(directory_valid)\n",
    "        print(\"Successfully created Folder Structure...!!!\")\n",
    "    except:\n",
    "        None"
   ]
  },
  {
   "cell_type": "code",
   "execution_count": 13,
   "metadata": {},
   "outputs": [],
   "source": [
    "# Prepares the training dataset\n",
    "def prepare_data(data, labels, location):\n",
    "    \n",
    "    clean_data()\n",
    "    create_folders(labels)\n",
    "    \n",
    "    for index, row in data.iterrows():\n",
    "        if index % 5000 == 0:\n",
    "            print(\"# Files copied: \" + str(index))\n",
    "        \n",
    "        src_file = location + 'Images/train/' + row[0]\n",
    "        dst_file = 'data/train/' + str(row[1]) + '/' + row[0]\n",
    "        copyfile(src_file, dst_file)\n",
    "        \n",
    "    print(\"Process Complete...!!!\")"
   ]
  },
  {
   "cell_type": "code",
   "execution_count": 14,
   "metadata": {},
   "outputs": [],
   "source": [
    "def file_count(directory):\n",
    "    path, dirs, files = next(os.walk(directory))\n",
    "    file_count = len(files)\n",
    "    print(path, file_count)"
   ]
  },
  {
   "cell_type": "code",
   "execution_count": 15,
   "metadata": {},
   "outputs": [],
   "source": [
    "# Prepare validation dataset\n",
    "def validation_data(valid_count):\n",
    "    for directory in os.listdir('data/train'):\n",
    "        path = 'data/train/' + directory + '/'\n",
    "        digit = path[-2:-1]\n",
    "\n",
    "        num_files = valid_count    \n",
    "\n",
    "        for index, filename in enumerate(os.listdir(path)):\n",
    "            if index // num_files == 1:\n",
    "                print(\"Copied \" + str(num_files) + \" in data/validation/\" + str(digit) + '/') \n",
    "                break\n",
    "\n",
    "            src_file = path + filename\n",
    "            dst_file = 'data/validation/' + digit + '/' + filename\n",
    "\n",
    "            move(src_file, dst_file)\n"
   ]
  },
  {
   "cell_type": "code",
   "execution_count": 16,
   "metadata": {},
   "outputs": [
    {
     "name": "stdout",
     "output_type": "stream",
     "text": [
      "Successfully created Folder Structure...!!!\n",
      "# Files copied: 0\n",
      "# Files copied: 5000\n",
      "# Files copied: 10000\n",
      "# Files copied: 15000\n",
      "# Files copied: 20000\n",
      "# Files copied: 25000\n",
      "# Files copied: 30000\n",
      "# Files copied: 35000\n",
      "# Files copied: 40000\n",
      "# Files copied: 45000\n",
      "Process Complete...!!!\n",
      "CPU times: user 6.53 s, sys: 2.35 s, total: 8.88 s\n",
      "Wall time: 14.6 s\n"
     ]
    }
   ],
   "source": [
    "%%time\n",
    "prepare_data(train_raw, labels, location)"
   ]
  },
  {
   "cell_type": "code",
   "execution_count": 17,
   "metadata": {},
   "outputs": [
    {
     "name": "stdout",
     "output_type": "stream",
     "text": [
      "Copied 500 in data/validation/6/\n",
      "Copied 500 in data/validation/7/\n",
      "Copied 500 in data/validation/3/\n",
      "Copied 500 in data/validation/9/\n",
      "Copied 500 in data/validation/4/\n",
      "Copied 500 in data/validation/0/\n",
      "Copied 500 in data/validation/8/\n",
      "Copied 500 in data/validation/2/\n",
      "Copied 500 in data/validation/1/\n",
      "Copied 500 in data/validation/5/\n",
      "CPU times: user 51.9 ms, sys: 63.2 ms, total: 115 ms\n",
      "Wall time: 133 ms\n"
     ]
    }
   ],
   "source": [
    "%%time\n",
    "validation_data(500)"
   ]
  },
  {
   "cell_type": "code",
   "execution_count": 18,
   "metadata": {},
   "outputs": [],
   "source": [
    "def prepare_test_data(data, location):\n",
    "    \n",
    "    if not os.path.exists(\"data/test/images\"):\n",
    "            os.makedirs(\"data/test/images\")\n",
    "            \n",
    "    for index, row in data.iterrows():\n",
    "        src_file = location + 'Images/test/' + row[0]\n",
    "        dst_file = 'data/test/images/' + row[0]\n",
    "        copyfile(src_file, dst_file)\n",
    "    \n",
    "    print(\"Test data created...!!!\")"
   ]
  },
  {
   "cell_type": "code",
   "execution_count": 20,
   "metadata": {},
   "outputs": [
    {
     "name": "stdout",
     "output_type": "stream",
     "text": [
      "Test data created...!!!\n",
      "CPU times: user 1.92 s, sys: 540 ms, total: 2.46 s\n",
      "Wall time: 2.47 s\n"
     ]
    }
   ],
   "source": [
    "%%time\n",
    "prepare_test_data(test_raw, location)"
   ]
  },
  {
   "cell_type": "code",
   "execution_count": null,
   "metadata": {},
   "outputs": [],
   "source": []
  },
  {
   "cell_type": "code",
   "execution_count": null,
   "metadata": {},
   "outputs": [],
   "source": []
  },
  {
   "cell_type": "code",
   "execution_count": null,
   "metadata": {},
   "outputs": [],
   "source": []
  },
  {
   "cell_type": "code",
   "execution_count": null,
   "metadata": {},
   "outputs": [],
   "source": []
  }
 ],
 "metadata": {
  "kernelspec": {
   "display_name": "Python 3",
   "language": "python",
   "name": "python3"
  },
  "language_info": {
   "codemirror_mode": {
    "name": "ipython",
    "version": 3
   },
   "file_extension": ".py",
   "mimetype": "text/x-python",
   "name": "python",
   "nbconvert_exporter": "python",
   "pygments_lexer": "ipython3",
   "version": "3.6.5"
  }
 },
 "nbformat": 4,
 "nbformat_minor": 2
}
