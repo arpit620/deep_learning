{
 "cells": [
  {
   "cell_type": "markdown",
   "metadata": {},
   "source": [
    "### Using Bottleneck features of a pre-trained network"
   ]
  },
  {
   "cell_type": "markdown",
   "metadata": {},
   "source": [
    "[Bottleneck features multi class classification](https://codesofinterest.com/2017/08/bottleneck-features-multi-class-classification-keras.html)"
   ]
  },
  {
   "cell_type": "code",
   "execution_count": 1,
   "metadata": {},
   "outputs": [],
   "source": [
    "import os\n",
    "os.environ[\"CUDA_VISIBLE_DEVICES\"]=\"1\""
   ]
  },
  {
   "cell_type": "code",
   "execution_count": 2,
   "metadata": {},
   "outputs": [],
   "source": [
    "import os\n",
    "import numpy as np\n",
    "import pandas as pd\n",
    "import matplotlib.pyplot as plt\n",
    "\n",
    "%matplotlib inline"
   ]
  },
  {
   "cell_type": "code",
   "execution_count": 3,
   "metadata": {},
   "outputs": [
    {
     "name": "stderr",
     "output_type": "stream",
     "text": [
      "/home/arpit/anaconda3/envs/tensorflow-gpu/lib/python3.6/site-packages/h5py/__init__.py:36: FutureWarning: Conversion of the second argument of issubdtype from `float` to `np.floating` is deprecated. In future, it will be treated as `np.float64 == np.dtype(float).type`.\n",
      "  from ._conv import register_converters as _register_converters\n",
      "Using TensorFlow backend.\n"
     ]
    }
   ],
   "source": [
    "import numpy as np\n",
    "from keras.preprocessing.image import ImageDataGenerator, img_to_array, load_img \n",
    "from keras.preprocessing.image import ImageDataGenerator\n",
    "from keras.models import Sequential\n",
    "from keras.layers import Dropout, Flatten, Dense\n",
    "from keras import applications\n",
    "from keras import regularizers\n",
    "\n",
    "from keras.utils.np_utils import to_categorical  \n",
    "import matplotlib.pyplot as plt  \n",
    "import math  \n",
    "import cv2 \n"
   ]
  },
  {
   "cell_type": "code",
   "execution_count": 4,
   "metadata": {},
   "outputs": [],
   "source": [
    "img_width, img_height = 150, 150\n",
    "\n",
    "top_model_weights_path = 'bottleneck_fc_model.h5'\n",
    "train_data_dir = 'data/train'\n",
    "validation_data_dir = 'data/validation'\n",
    "test_data_dir = 'data/test'\n",
    "\n",
    "nb_train_samples = 44000\n",
    "nb_validation_samples = 5000\n",
    "epochs = 20\n",
    "batch_size = 64"
   ]
  },
  {
   "cell_type": "code",
   "execution_count": 5,
   "metadata": {},
   "outputs": [
    {
     "name": "stdout",
     "output_type": "stream",
     "text": [
      "Downloading data from https://github.com/fchollet/deep-learning-models/releases/download/v0.1/vgg19_weights_tf_dim_ordering_tf_kernels_notop.h5\n",
      "80142336/80134624 [==============================] - 20s 0us/step\n",
      "_________________________________________________________________\n",
      "Layer (type)                 Output Shape              Param #   \n",
      "=================================================================\n",
      "input_1 (InputLayer)         (None, 150, 150, 3)       0         \n",
      "_________________________________________________________________\n",
      "block1_conv1 (Conv2D)        (None, 150, 150, 64)      1792      \n",
      "_________________________________________________________________\n",
      "block1_conv2 (Conv2D)        (None, 150, 150, 64)      36928     \n",
      "_________________________________________________________________\n",
      "block1_pool (MaxPooling2D)   (None, 75, 75, 64)        0         \n",
      "_________________________________________________________________\n",
      "block2_conv1 (Conv2D)        (None, 75, 75, 128)       73856     \n",
      "_________________________________________________________________\n",
      "block2_conv2 (Conv2D)        (None, 75, 75, 128)       147584    \n",
      "_________________________________________________________________\n",
      "block2_pool (MaxPooling2D)   (None, 37, 37, 128)       0         \n",
      "_________________________________________________________________\n",
      "block3_conv1 (Conv2D)        (None, 37, 37, 256)       295168    \n",
      "_________________________________________________________________\n",
      "block3_conv2 (Conv2D)        (None, 37, 37, 256)       590080    \n",
      "_________________________________________________________________\n",
      "block3_conv3 (Conv2D)        (None, 37, 37, 256)       590080    \n",
      "_________________________________________________________________\n",
      "block3_conv4 (Conv2D)        (None, 37, 37, 256)       590080    \n",
      "_________________________________________________________________\n",
      "block3_pool (MaxPooling2D)   (None, 18, 18, 256)       0         \n",
      "_________________________________________________________________\n",
      "block4_conv1 (Conv2D)        (None, 18, 18, 512)       1180160   \n",
      "_________________________________________________________________\n",
      "block4_conv2 (Conv2D)        (None, 18, 18, 512)       2359808   \n",
      "_________________________________________________________________\n",
      "block4_conv3 (Conv2D)        (None, 18, 18, 512)       2359808   \n",
      "_________________________________________________________________\n",
      "block4_conv4 (Conv2D)        (None, 18, 18, 512)       2359808   \n",
      "_________________________________________________________________\n",
      "block4_pool (MaxPooling2D)   (None, 9, 9, 512)         0         \n",
      "_________________________________________________________________\n",
      "block5_conv1 (Conv2D)        (None, 9, 9, 512)         2359808   \n",
      "_________________________________________________________________\n",
      "block5_conv2 (Conv2D)        (None, 9, 9, 512)         2359808   \n",
      "_________________________________________________________________\n",
      "block5_conv3 (Conv2D)        (None, 9, 9, 512)         2359808   \n",
      "_________________________________________________________________\n",
      "block5_conv4 (Conv2D)        (None, 9, 9, 512)         2359808   \n",
      "_________________________________________________________________\n",
      "block5_pool (MaxPooling2D)   (None, 4, 4, 512)         0         \n",
      "=================================================================\n",
      "Total params: 20,024,384\n",
      "Trainable params: 20,024,384\n",
      "Non-trainable params: 0\n",
      "_________________________________________________________________\n"
     ]
    }
   ],
   "source": [
    "model_vgg19 = applications.VGG19(weights = \"imagenet\", include_top=False, input_shape = (150, 150, 3))\n",
    "model_vgg19.summary()"
   ]
  },
  {
   "cell_type": "code",
   "execution_count": 8,
   "metadata": {},
   "outputs": [],
   "source": [
    "datagen = ImageDataGenerator(rescale=1. / 255)  "
   ]
  },
  {
   "cell_type": "code",
   "execution_count": 9,
   "metadata": {},
   "outputs": [
    {
     "name": "stdout",
     "output_type": "stream",
     "text": [
      "Found 44000 images belonging to 10 classes.\n"
     ]
    }
   ],
   "source": [
    "train_generator = datagen.flow_from_directory(  \n",
    "     train_data_dir,  \n",
    "     target_size=(img_width, img_height),  \n",
    "     batch_size=batch_size,  \n",
    "     class_mode=None,  \n",
    "     shuffle=False) \n",
    "\n",
    "nb_train_samples = len(train_generator.filenames)\n",
    "num_classes = len(train_generator.class_indices)\n",
    "\n",
    "predict_size_train = int(math.ceil(nb_train_samples / batch_size))"
   ]
  },
  {
   "cell_type": "code",
   "execution_count": 10,
   "metadata": {},
   "outputs": [
    {
     "name": "stdout",
     "output_type": "stream",
     "text": [
      "CPU times: user 1min 20s, sys: 28.9 s, total: 1min 48s\n",
      "Wall time: 1min 33s\n"
     ]
    }
   ],
   "source": [
    "%%time\n",
    "bottleneck_features_train = model_vgg19.predict_generator(  \n",
    "     train_generator, predict_size_train)"
   ]
  },
  {
   "cell_type": "code",
   "execution_count": 11,
   "metadata": {},
   "outputs": [],
   "source": [
    "np.save('bottleneck_features_train.npy', bottleneck_features_train)  "
   ]
  },
  {
   "cell_type": "code",
   "execution_count": 12,
   "metadata": {},
   "outputs": [
    {
     "name": "stdout",
     "output_type": "stream",
     "text": [
      "Found 5000 images belonging to 10 classes.\n"
     ]
    }
   ],
   "source": [
    "validation_generator = datagen.flow_from_directory(  \n",
    "     validation_data_dir,  \n",
    "     target_size=(img_width, img_height),  \n",
    "     batch_size=batch_size,  \n",
    "     class_mode=None,  \n",
    "     shuffle=False)  \n",
    "   \n",
    "nb_validation_samples = len(validation_generator.filenames)  \n",
    "   \n",
    "predict_size_validation = int(math.ceil(nb_validation_samples / batch_size))  \n",
    "   \n"
   ]
  },
  {
   "cell_type": "code",
   "execution_count": 13,
   "metadata": {},
   "outputs": [
    {
     "name": "stdout",
     "output_type": "stream",
     "text": [
      "CPU times: user 9.3 s, sys: 3.56 s, total: 12.9 s\n",
      "Wall time: 10.8 s\n"
     ]
    }
   ],
   "source": [
    "%%time\n",
    "bottleneck_features_validation = model_vgg19.predict_generator(  \n",
    "     validation_generator, predict_size_validation)  \n",
    "   \n",
    "np.save('bottleneck_features_validation.npy', bottleneck_features_validation) "
   ]
  },
  {
   "cell_type": "code",
   "execution_count": 14,
   "metadata": {},
   "outputs": [
    {
     "data": {
      "text/plain": [
       "(44000, 4, 4, 512)"
      ]
     },
     "execution_count": 14,
     "metadata": {},
     "output_type": "execute_result"
    }
   ],
   "source": [
    "bottleneck_features_train.shape"
   ]
  },
  {
   "cell_type": "code",
   "execution_count": 15,
   "metadata": {},
   "outputs": [
    {
     "name": "stdout",
     "output_type": "stream",
     "text": [
      "Found 44000 images belonging to 10 classes.\n"
     ]
    }
   ],
   "source": [
    "datagen_top = ImageDataGenerator(rescale=1./255)  \n",
    "generator_top = datagen_top.flow_from_directory(  \n",
    "         train_data_dir,  \n",
    "         target_size=(img_width, img_height),  \n",
    "         batch_size=batch_size,  \n",
    "         class_mode='categorical',  \n",
    "         shuffle=False) "
   ]
  },
  {
   "cell_type": "code",
   "execution_count": 16,
   "metadata": {},
   "outputs": [],
   "source": [
    "nb_train_samples = len(generator_top.filenames)  \n",
    "num_classes = len(generator_top.class_indices) "
   ]
  },
  {
   "cell_type": "code",
   "execution_count": 17,
   "metadata": {},
   "outputs": [],
   "source": [
    "# load the bottleneck features saved earlier  \n",
    "train_data = np.load('bottleneck_features_train.npy')"
   ]
  },
  {
   "cell_type": "code",
   "execution_count": 18,
   "metadata": {},
   "outputs": [],
   "source": [
    "# get the class lebels for the training data, in the original order  \n",
    "train_labels = generator_top.classes  "
   ]
  },
  {
   "cell_type": "code",
   "execution_count": 19,
   "metadata": {},
   "outputs": [],
   "source": [
    "# convert the training labels to categorical vectors  \n",
    "train_labels = to_categorical(train_labels, num_classes=num_classes)"
   ]
  },
  {
   "cell_type": "code",
   "execution_count": 20,
   "metadata": {},
   "outputs": [
    {
     "name": "stdout",
     "output_type": "stream",
     "text": [
      "Found 5000 images belonging to 10 classes.\n"
     ]
    }
   ],
   "source": [
    "generator_top = datagen_top.flow_from_directory(  \n",
    "         validation_data_dir,  \n",
    "         target_size=(img_width, img_height),  \n",
    "         batch_size=batch_size,  \n",
    "         class_mode=None,  \n",
    "         shuffle=False)  \n",
    "   \n",
    "nb_validation_samples = len(generator_top.filenames)  \n",
    "   \n",
    "validation_data = np.load('bottleneck_features_validation.npy')  \n",
    "   \n",
    "validation_labels = generator_top.classes  \n",
    "validation_labels = to_categorical(validation_labels, num_classes=num_classes)"
   ]
  },
  {
   "cell_type": "code",
   "execution_count": 21,
   "metadata": {},
   "outputs": [],
   "source": [
    "model = Sequential()  \n",
    "model.add(Flatten(input_shape=train_data.shape[1:]))  \n",
    "model.add(Dense(256, activation='relu'))  \n",
    "model.add(Dense(256, activation='relu'))  \n",
    "\n",
    "model.add(Dense(num_classes, activation='softmax'))\n",
    "# model.add(Dense(num_classes, activation='sigmoid'))\n",
    "   \n",
    "model.compile(optimizer='adam',  \n",
    "              loss='categorical_crossentropy', metrics=['accuracy'])"
   ]
  },
  {
   "cell_type": "code",
   "execution_count": 40,
   "metadata": {},
   "outputs": [
    {
     "name": "stdout",
     "output_type": "stream",
     "text": [
      "Train on 44000 samples, validate on 5000 samples\n",
      "Epoch 1/50\n",
      "44000/44000 [==============================] - 3s 64us/step - loss: 0.0227 - acc: 0.9923 - val_loss: 0.0602 - val_acc: 0.9844\n",
      "Epoch 2/50\n",
      "44000/44000 [==============================] - 3s 61us/step - loss: 0.0185 - acc: 0.9937 - val_loss: 0.0776 - val_acc: 0.9816\n",
      "Epoch 3/50\n",
      "44000/44000 [==============================] - 3s 58us/step - loss: 0.0193 - acc: 0.9936 - val_loss: 0.0972 - val_acc: 0.9754\n",
      "Epoch 4/50\n",
      "44000/44000 [==============================] - 3s 58us/step - loss: 0.0195 - acc: 0.9938 - val_loss: 0.0648 - val_acc: 0.9854\n",
      "Epoch 5/50\n",
      "44000/44000 [==============================] - 3s 59us/step - loss: 0.0155 - acc: 0.9946 - val_loss: 0.0748 - val_acc: 0.9822\n",
      "Epoch 6/50\n",
      "44000/44000 [==============================] - 3s 59us/step - loss: 0.0168 - acc: 0.9943 - val_loss: 0.0885 - val_acc: 0.9798\n",
      "Epoch 7/50\n",
      "44000/44000 [==============================] - 3s 59us/step - loss: 0.0188 - acc: 0.9935 - val_loss: 0.0618 - val_acc: 0.9852\n",
      "Epoch 8/50\n",
      "44000/44000 [==============================] - 3s 63us/step - loss: 0.0113 - acc: 0.9959 - val_loss: 0.0736 - val_acc: 0.9850\n",
      "Epoch 9/50\n",
      "44000/44000 [==============================] - 3s 59us/step - loss: 0.0120 - acc: 0.9961 - val_loss: 0.1051 - val_acc: 0.9786\n",
      "Epoch 10/50\n",
      "44000/44000 [==============================] - 3s 59us/step - loss: 0.0138 - acc: 0.9955 - val_loss: 0.0676 - val_acc: 0.9860\n",
      "Epoch 11/50\n",
      "44000/44000 [==============================] - 3s 59us/step - loss: 0.0112 - acc: 0.9962 - val_loss: 0.0808 - val_acc: 0.9828\n",
      "Epoch 12/50\n",
      "44000/44000 [==============================] - 3s 59us/step - loss: 0.0139 - acc: 0.9951 - val_loss: 0.0812 - val_acc: 0.9834\n",
      "Epoch 13/50\n",
      "44000/44000 [==============================] - 3s 59us/step - loss: 0.0114 - acc: 0.9960 - val_loss: 0.0918 - val_acc: 0.9834\n",
      "Epoch 14/50\n",
      "44000/44000 [==============================] - 3s 59us/step - loss: 0.0115 - acc: 0.9961 - val_loss: 0.1048 - val_acc: 0.9782\n",
      "Epoch 15/50\n",
      "44000/44000 [==============================] - 3s 58us/step - loss: 0.0103 - acc: 0.9966 - val_loss: 0.0951 - val_acc: 0.9794\n",
      "Epoch 16/50\n",
      "44000/44000 [==============================] - 3s 59us/step - loss: 0.0092 - acc: 0.9968 - val_loss: 0.0908 - val_acc: 0.9824\n",
      "Epoch 17/50\n",
      "44000/44000 [==============================] - 3s 58us/step - loss: 0.0112 - acc: 0.9962 - val_loss: 0.0970 - val_acc: 0.9828\n",
      "Epoch 18/50\n",
      "44000/44000 [==============================] - 3s 59us/step - loss: 0.0091 - acc: 0.9970 - val_loss: 0.0904 - val_acc: 0.9820\n",
      "Epoch 19/50\n",
      "44000/44000 [==============================] - 3s 59us/step - loss: 0.0106 - acc: 0.9967 - val_loss: 0.1177 - val_acc: 0.9786\n",
      "Epoch 20/50\n",
      "44000/44000 [==============================] - 3s 59us/step - loss: 0.0068 - acc: 0.9978 - val_loss: 0.0895 - val_acc: 0.9822\n",
      "Epoch 21/50\n",
      "44000/44000 [==============================] - 3s 58us/step - loss: 0.0096 - acc: 0.9970 - val_loss: 0.0963 - val_acc: 0.9828\n",
      "Epoch 22/50\n",
      "44000/44000 [==============================] - 3s 58us/step - loss: 0.0052 - acc: 0.9985 - val_loss: 0.0860 - val_acc: 0.9850\n",
      "Epoch 23/50\n",
      "44000/44000 [==============================] - 3s 59us/step - loss: 0.0143 - acc: 0.9956 - val_loss: 0.0896 - val_acc: 0.9822\n",
      "Epoch 24/50\n",
      "44000/44000 [==============================] - 3s 58us/step - loss: 0.0072 - acc: 0.9978 - val_loss: 0.0971 - val_acc: 0.9824\n",
      "Epoch 25/50\n",
      "44000/44000 [==============================] - 3s 59us/step - loss: 0.0058 - acc: 0.9981 - val_loss: 0.0841 - val_acc: 0.9848\n",
      "Epoch 26/50\n",
      "44000/44000 [==============================] - 3s 58us/step - loss: 0.0087 - acc: 0.9971 - val_loss: 0.0806 - val_acc: 0.9842\n",
      "Epoch 27/50\n",
      "44000/44000 [==============================] - 3s 59us/step - loss: 0.0074 - acc: 0.9976 - val_loss: 0.0879 - val_acc: 0.9854\n",
      "Epoch 28/50\n",
      "44000/44000 [==============================] - 3s 59us/step - loss: 0.0101 - acc: 0.9972 - val_loss: 0.0758 - val_acc: 0.9864\n",
      "Epoch 29/50\n",
      "44000/44000 [==============================] - 3s 59us/step - loss: 0.0061 - acc: 0.9979 - val_loss: 0.0713 - val_acc: 0.9864\n",
      "Epoch 30/50\n",
      "44000/44000 [==============================] - 3s 58us/step - loss: 0.0050 - acc: 0.9985 - val_loss: 0.0849 - val_acc: 0.9848\n",
      "Epoch 31/50\n",
      "44000/44000 [==============================] - 3s 59us/step - loss: 0.0094 - acc: 0.9967 - val_loss: 0.0968 - val_acc: 0.9828\n",
      "Epoch 32/50\n",
      "44000/44000 [==============================] - 3s 58us/step - loss: 0.0041 - acc: 0.9987 - val_loss: 0.1027 - val_acc: 0.9812\n",
      "Epoch 33/50\n",
      "44000/44000 [==============================] - 3s 59us/step - loss: 0.0068 - acc: 0.9979 - val_loss: 0.0879 - val_acc: 0.9848\n",
      "Epoch 34/50\n",
      "44000/44000 [==============================] - 3s 59us/step - loss: 0.0052 - acc: 0.9985 - val_loss: 0.1728 - val_acc: 0.9686\n",
      "Epoch 35/50\n",
      "44000/44000 [==============================] - 3s 59us/step - loss: 0.0080 - acc: 0.9975 - val_loss: 0.0872 - val_acc: 0.9860\n",
      "Epoch 36/50\n",
      "44000/44000 [==============================] - 3s 59us/step - loss: 0.0060 - acc: 0.9981 - val_loss: 0.0891 - val_acc: 0.9864\n",
      "Epoch 37/50\n",
      "44000/44000 [==============================] - 3s 58us/step - loss: 0.0101 - acc: 0.9971 - val_loss: 0.0931 - val_acc: 0.9844\n",
      "Epoch 38/50\n",
      "44000/44000 [==============================] - 3s 58us/step - loss: 8.6091e-04 - acc: 0.9997 - val_loss: 0.0817 - val_acc: 0.9852\n",
      "Epoch 39/50\n",
      "44000/44000 [==============================] - 3s 59us/step - loss: 0.0085 - acc: 0.9976 - val_loss: 0.0926 - val_acc: 0.9842\n",
      "Epoch 40/50\n",
      "44000/44000 [==============================] - 3s 58us/step - loss: 0.0066 - acc: 0.9977 - val_loss: 0.0932 - val_acc: 0.9844\n",
      "Epoch 41/50\n",
      "44000/44000 [==============================] - 3s 59us/step - loss: 0.0065 - acc: 0.9979 - val_loss: 0.0954 - val_acc: 0.9836\n",
      "Epoch 42/50\n",
      "44000/44000 [==============================] - 3s 58us/step - loss: 0.0051 - acc: 0.9985 - val_loss: 0.0743 - val_acc: 0.9880\n",
      "Epoch 43/50\n",
      "44000/44000 [==============================] - 3s 59us/step - loss: 0.0044 - acc: 0.9987 - val_loss: 0.1099 - val_acc: 0.9804\n",
      "Epoch 44/50\n",
      "44000/44000 [==============================] - 3s 59us/step - loss: 0.0011 - acc: 0.9996 - val_loss: 0.0924 - val_acc: 0.9850\n",
      "Epoch 45/50\n",
      "44000/44000 [==============================] - 3s 58us/step - loss: 0.0073 - acc: 0.9979 - val_loss: 0.1152 - val_acc: 0.9818\n",
      "Epoch 46/50\n",
      "44000/44000 [==============================] - 3s 59us/step - loss: 0.0113 - acc: 0.9965 - val_loss: 0.1351 - val_acc: 0.9774\n",
      "Epoch 47/50\n",
      "44000/44000 [==============================] - 3s 59us/step - loss: 0.0053 - acc: 0.9985 - val_loss: 0.0855 - val_acc: 0.9856\n",
      "Epoch 48/50\n",
      "44000/44000 [==============================] - 3s 58us/step - loss: 0.0076 - acc: 0.9977 - val_loss: 0.0862 - val_acc: 0.9850\n",
      "Epoch 49/50\n",
      "44000/44000 [==============================] - 3s 59us/step - loss: 0.0050 - acc: 0.9985 - val_loss: 0.0833 - val_acc: 0.9860\n",
      "Epoch 50/50\n",
      "44000/44000 [==============================] - 3s 58us/step - loss: 0.0027 - acc: 0.9993 - val_loss: 0.1187 - val_acc: 0.9818\n"
     ]
    }
   ],
   "source": [
    "history = model.fit(train_data, train_labels,  \n",
    "          epochs=50,  \n",
    "          batch_size=batch_size,  \n",
    "          validation_data=(validation_data, validation_labels))"
   ]
  },
  {
   "cell_type": "code",
   "execution_count": 41,
   "metadata": {},
   "outputs": [],
   "source": [
    "model.save_weights(top_model_weights_path)"
   ]
  },
  {
   "cell_type": "code",
   "execution_count": 42,
   "metadata": {},
   "outputs": [
    {
     "name": "stdout",
     "output_type": "stream",
     "text": [
      "5000/5000 [==============================] - 0s 25us/step\n"
     ]
    }
   ],
   "source": [
    "(eval_loss, eval_accuracy) = model.evaluate(  \n",
    "     validation_data, validation_labels, batch_size=batch_size, verbose=1)"
   ]
  },
  {
   "cell_type": "code",
   "execution_count": 43,
   "metadata": {},
   "outputs": [
    {
     "name": "stdout",
     "output_type": "stream",
     "text": [
      "[INFO] accuracy: 98.18%\n",
      "[INFO] Loss: 0.11874016974708793\n"
     ]
    }
   ],
   "source": [
    "print(\"[INFO] accuracy: {:.2f}%\".format(eval_accuracy * 100))  \n",
    "print(\"[INFO] Loss: {}\".format(eval_loss))"
   ]
  },
  {
   "cell_type": "code",
   "execution_count": 44,
   "metadata": {},
   "outputs": [
    {
     "data": {
      "image/png": "[encoded data removed]",
      "text/plain": [
       "<Figure size 432x288 with 2 Axes>"
      ]
     },
     "metadata": {},
     "output_type": "display_data"
    }
   ],
   "source": [
    "plt.figure(1)  \n",
    "\n",
    "# summarize history for accuracy  \n",
    "\n",
    "plt.subplot(211)  \n",
    "plt.plot(history.history['acc'])  \n",
    "plt.plot(history.history['val_acc'])  \n",
    "plt.title('model accuracy')  \n",
    "plt.ylabel('accuracy')  \n",
    "plt.xlabel('epoch')  \n",
    "plt.legend(['train', 'test'], loc='upper left')  \n",
    "\n",
    "# summarize history for loss  \n",
    "\n",
    "plt.subplot(212)  \n",
    "plt.plot(history.history['loss'])  \n",
    "plt.plot(history.history['val_loss'])  \n",
    "plt.title('model loss')  \n",
    "plt.ylabel('loss')  \n",
    "plt.xlabel('epoch')  \n",
    "plt.legend(['train', 'test'], loc='upper left')  \n",
    "plt.show()"
   ]
  },
  {
   "cell_type": "code",
   "execution_count": null,
   "metadata": {},
   "outputs": [],
   "source": []
  },
  {
   "cell_type": "code",
   "execution_count": 45,
   "metadata": {},
   "outputs": [],
   "source": [
    "test_datagen = ImageDataGenerator(rescale=1./255)"
   ]
  },
  {
   "cell_type": "code",
   "execution_count": 46,
   "metadata": {},
   "outputs": [
    {
     "name": "stdout",
     "output_type": "stream",
     "text": [
      "Found 21000 images belonging to 1 classes.\n"
     ]
    }
   ],
   "source": [
    "test_generator = test_datagen.flow_from_directory(\n",
    "    directory=\"data/test\",\n",
    "    target_size=(img_width, img_height),\n",
    "    batch_size=batch_size,\n",
    "    class_mode=None,\n",
    "    shuffle=False\n",
    ")"
   ]
  },
  {
   "cell_type": "code",
   "execution_count": 47,
   "metadata": {},
   "outputs": [],
   "source": [
    "nb_test_samples = len(test_generator.filenames)"
   ]
  },
  {
   "cell_type": "code",
   "execution_count": 48,
   "metadata": {},
   "outputs": [
    {
     "name": "stdout",
     "output_type": "stream",
     "text": [
      "CPU times: user 37.6 s, sys: 13.4 s, total: 51 s\n",
      "Wall time: 44 s\n"
     ]
    }
   ],
   "source": [
    "%%time\n",
    "bottleneck_features_test = model_vgg19.predict_generator(test_generator)"
   ]
  },
  {
   "cell_type": "code",
   "execution_count": 49,
   "metadata": {},
   "outputs": [
    {
     "data": {
      "text/plain": [
       "(21000, 4, 4, 512)"
      ]
     },
     "execution_count": 49,
     "metadata": {},
     "output_type": "execute_result"
    }
   ],
   "source": [
    "bottleneck_features_test.shape"
   ]
  },
  {
   "cell_type": "code",
   "execution_count": 50,
   "metadata": {},
   "outputs": [],
   "source": [
    "np.save('bottleneck_features_test.npy', bottleneck_features_test) "
   ]
  },
  {
   "cell_type": "code",
   "execution_count": 51,
   "metadata": {},
   "outputs": [],
   "source": [
    "test_data = np.load('bottleneck_features_test.npy') "
   ]
  },
  {
   "cell_type": "code",
   "execution_count": 52,
   "metadata": {},
   "outputs": [],
   "source": [
    "pred = model.predict(test_data)"
   ]
  },
  {
   "cell_type": "code",
   "execution_count": 53,
   "metadata": {},
   "outputs": [
    {
     "data": {
      "text/plain": [
       "(21000, 10)"
      ]
     },
     "execution_count": 53,
     "metadata": {},
     "output_type": "execute_result"
    }
   ],
   "source": [
    "pred.shape"
   ]
  },
  {
   "cell_type": "code",
   "execution_count": 54,
   "metadata": {},
   "outputs": [],
   "source": [
    "predicted_class_indices=np.argmax(pred,axis=1)"
   ]
  },
  {
   "cell_type": "code",
   "execution_count": 55,
   "metadata": {},
   "outputs": [],
   "source": [
    "predictions = list(predicted_class_indices)"
   ]
  },
  {
   "cell_type": "code",
   "execution_count": 56,
   "metadata": {},
   "outputs": [],
   "source": [
    "filenames=test_generator.filenames"
   ]
  },
  {
   "cell_type": "code",
   "execution_count": 57,
   "metadata": {},
   "outputs": [],
   "source": [
    "results=pd.DataFrame({\"filename\":filenames,\n",
    "                      \"label\":predictions})\n",
    "results.to_csv(\"results/results_vgg19_bottleneck.csv\",index=False)"
   ]
  },
  {
   "cell_type": "code",
   "execution_count": null,
   "metadata": {},
   "outputs": [],
   "source": []
  },
  {
   "cell_type": "code",
   "execution_count": null,
   "metadata": {},
   "outputs": [],
   "source": []
  },
  {
   "cell_type": "code",
   "execution_count": null,
   "metadata": {},
   "outputs": [],
   "source": []
  },
  {
   "cell_type": "code",
   "execution_count": null,
   "metadata": {},
   "outputs": [],
   "source": []
  }
 ],
 "metadata": {
  "kernelspec": {
   "display_name": "Python 3",
   "language": "python",
   "name": "python3"
  },
  "language_info": {
   "codemirror_mode": {
    "name": "ipython",
    "version": 3
   },
   "file_extension": ".py",
   "mimetype": "text/x-python",
   "name": "python",
   "nbconvert_exporter": "python",
   "pygments_lexer": "ipython3",
   "version": "3.6.5"
  }
 },
 "nbformat": 4,
 "nbformat_minor": 2
}
