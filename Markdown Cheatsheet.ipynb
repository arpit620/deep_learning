{
 "cells": [
  {
   "cell_type": "markdown",
   "metadata": {},
   "source": [
    "### Markdown Cheatsheet\n",
    "[Article](https://github.com/adam-p/markdown-here/wiki/Markdown-Cheatsheet)"
   ]
  },
  {
   "cell_type": "markdown",
   "metadata": {},
   "source": [
    "***"
   ]
  },
  {
   "cell_type": "code",
   "execution_count": null,
   "metadata": {},
   "outputs": [],
   "source": []
  },
  {
   "cell_type": "markdown",
   "metadata": {},
   "source": [
    "### Adding colors"
   ]
  },
  {
   "cell_type": "markdown",
   "metadata": {},
   "source": [
    "These HTML color Markdown doesn't work when opened directly on Github"
   ]
  },
  {
   "cell_type": "markdown",
   "metadata": {},
   "source": [
    "```\n",
    "### Color Coding links:\n",
    "[Adobe Color Wheel](https://color.adobe.com/create/color-wheel/)\n",
    "<br>\n",
    "[W3Schools Color Picker](https://www.w3schools.com/colors/colors_picker.asp)\n",
    "```"
   ]
  },
  {
   "cell_type": "markdown",
   "metadata": {},
   "source": [
    "### Color Coding links:\n",
    "[Adobe Color Wheel](https://color.adobe.com/create/color-wheel/)\n",
    "<br>\n",
    "[W3Schools Color Picker](https://www.w3schools.com/colors/colors_picker.asp)"
   ]
  },
  {
   "cell_type": "markdown",
   "metadata": {},
   "source": [
    "<h1 style=\"color:#4CAF50;\">This is a Green Heading</h1>"
   ]
  },
  {
   "cell_type": "markdown",
   "metadata": {},
   "source": [
    "```HTML\n",
    "<div style=\"background-color:#ddffdd;border-left: 6px solid #4CAF50 ; padding: 10px\">\n",
    "This is a Green Heading\n",
    "</div>\n",
    "```"
   ]
  },
  {
   "cell_type": "markdown",
   "metadata": {},
   "source": [
    "<div style=\"background-color:#ddffdd;border-left: 6px solid #4CAF50 ; padding: 10px\">This is a Green Heading</div>"
   ]
  },
  {
   "cell_type": "markdown",
   "metadata": {},
   "source": [
    "<div style=\"background-color:#FF9891;border-left: 6px solid #CC3F37 ; padding: 10px\">This is a Red Heading</div>"
   ]
  },
  {
   "cell_type": "markdown",
   "metadata": {},
   "source": [
    "<div style=\"background-color:#FFE45A;border-left: 6px solid #CCAD0B ; padding: 10px\">This is a Yellow Heading</div>"
   ]
  },
  {
   "cell_type": "markdown",
   "metadata": {},
   "source": [
    "<div style=\"background-color:#A4E7FF;border-left: 6px solid #46A8CC ; padding: 10px\">This is a Blue Heading</div>"
   ]
  },
  {
   "cell_type": "markdown",
   "metadata": {},
   "source": [
    "<div style=\"background-color:#A4E7FF;border-left: 6px solid #46A8CC ; padding: 10px\">\n",
    "\n",
    "<h3>This is a Blue Heading inside HTML Code</h3>\n",
    "### Markdown doesn't work inside HTML Tags\n",
    "</div>"
   ]
  },
  {
   "cell_type": "code",
   "execution_count": null,
   "metadata": {},
   "outputs": [],
   "source": []
  },
  {
   "cell_type": "code",
   "execution_count": null,
   "metadata": {},
   "outputs": [],
   "source": []
  },
  {
   "cell_type": "code",
   "execution_count": null,
   "metadata": {},
   "outputs": [],
   "source": []
  },
  {
   "cell_type": "code",
   "execution_count": null,
   "metadata": {},
   "outputs": [],
   "source": []
  },
  {
   "cell_type": "code",
   "execution_count": null,
   "metadata": {},
   "outputs": [],
   "source": []
  }
 ],
 "metadata": {
  "kernelspec": {
   "display_name": "Python 3",
   "language": "python",
   "name": "python3"
  },
  "language_info": {
   "codemirror_mode": {
    "name": "ipython",
    "version": 3
   },
   "file_extension": ".py",
   "mimetype": "text/x-python",
   "name": "python",
   "nbconvert_exporter": "python",
   "pygments_lexer": "ipython3",
   "version": "3.6.5"
  }
 },
 "nbformat": 4,
 "nbformat_minor": 2
}
