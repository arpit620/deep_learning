{
 "cells": [
  {
   "cell_type": "code",
   "execution_count": 1,
   "metadata": {},
   "outputs": [],
   "source": [
    "import os\n",
    "os.environ[\"CUDA_VISIBLE_DEVICES\"]=\"1\""
   ]
  },
  {
   "cell_type": "code",
   "execution_count": 2,
   "metadata": {},
   "outputs": [],
   "source": [
    "import os\n",
    "import numpy as np\n",
    "import pandas as pd\n",
    "import matplotlib.pyplot as plt\n",
    "\n",
    "%matplotlib inline"
   ]
  },
  {
   "cell_type": "code",
   "execution_count": 3,
   "metadata": {},
   "outputs": [
    {
     "name": "stderr",
     "output_type": "stream",
     "text": [
      "/home/arpit/anaconda3/envs/tensorflow-gpu/lib/python3.6/site-packages/h5py/__init__.py:36: FutureWarning: Conversion of the second argument of issubdtype from `float` to `np.floating` is deprecated. In future, it will be treated as `np.float64 == np.dtype(float).type`.\n",
      "  from ._conv import register_converters as _register_converters\n",
      "Using TensorFlow backend.\n"
     ]
    }
   ],
   "source": [
    "from keras.models import Sequential\n",
    "from keras.layers import Conv2D, MaxPooling2D\n",
    "from keras.layers import Activation, Dropout, Flatten, Dense\n",
    "from keras.preprocessing.image import ImageDataGenerator"
   ]
  },
  {
   "cell_type": "code",
   "execution_count": 9,
   "metadata": {},
   "outputs": [],
   "source": [
    "model = Sequential()\n",
    "model.add(Conv2D(32, (3, 3), input_shape=( 150, 150, 3)))\n",
    "model.add(Activation('relu'))\n",
    "model.add(MaxPooling2D(pool_size=(2, 2)))\n",
    "\n",
    "model.add(Conv2D(32, (3, 3)))\n",
    "model.add(Activation('relu'))\n",
    "model.add(MaxPooling2D(pool_size=(2, 2)))\n",
    "\n",
    "model.add(Conv2D(64, (3, 3)))\n",
    "model.add(Activation('relu'))\n",
    "model.add(MaxPooling2D(pool_size=(2, 2)))"
   ]
  },
  {
   "cell_type": "code",
   "execution_count": 10,
   "metadata": {},
   "outputs": [],
   "source": [
    "model.add(Flatten())  # this converts our 3D feature maps to 1D feature vectors\n",
    "model.add(Dense(1024))\n",
    "model.add(Activation('relu'))\n",
    "model.add(Dropout(0.3))\n",
    "\n",
    "model.add(Dense(1024))\n",
    "model.add(Activation('relu'))\n",
    "model.add(Dropout(0.3))\n",
    "\n",
    "model.add(Dense(30))\n",
    "model.add(Activation('softmax'))\n",
    "\n",
    "# parallel_model = multi_gpu_model(model, gpus=2)\n",
    "model.compile(loss='categorical_crossentropy',\n",
    "              optimizer='adam',\n",
    "              metrics=['accuracy'])"
   ]
  },
  {
   "cell_type": "code",
   "execution_count": 11,
   "metadata": {},
   "outputs": [
    {
     "name": "stdout",
     "output_type": "stream",
     "text": [
      "_________________________________________________________________\n",
      "Layer (type)                 Output Shape              Param #   \n",
      "=================================================================\n",
      "conv2d_7 (Conv2D)            (None, 148, 148, 32)      896       \n",
      "_________________________________________________________________\n",
      "activation_13 (Activation)   (None, 148, 148, 32)      0         \n",
      "_________________________________________________________________\n",
      "max_pooling2d_7 (MaxPooling2 (None, 74, 74, 32)        0         \n",
      "_________________________________________________________________\n",
      "conv2d_8 (Conv2D)            (None, 72, 72, 32)        9248      \n",
      "_________________________________________________________________\n",
      "activation_14 (Activation)   (None, 72, 72, 32)        0         \n",
      "_________________________________________________________________\n",
      "max_pooling2d_8 (MaxPooling2 (None, 36, 36, 32)        0         \n",
      "_________________________________________________________________\n",
      "conv2d_9 (Conv2D)            (None, 34, 34, 64)        18496     \n",
      "_________________________________________________________________\n",
      "activation_15 (Activation)   (None, 34, 34, 64)        0         \n",
      "_________________________________________________________________\n",
      "max_pooling2d_9 (MaxPooling2 (None, 17, 17, 64)        0         \n",
      "_________________________________________________________________\n",
      "flatten_4 (Flatten)          (None, 18496)             0         \n",
      "_________________________________________________________________\n",
      "dense_7 (Dense)              (None, 1024)              18940928  \n",
      "_________________________________________________________________\n",
      "activation_16 (Activation)   (None, 1024)              0         \n",
      "_________________________________________________________________\n",
      "dropout_5 (Dropout)          (None, 1024)              0         \n",
      "_________________________________________________________________\n",
      "dense_8 (Dense)              (None, 1024)              1049600   \n",
      "_________________________________________________________________\n",
      "activation_17 (Activation)   (None, 1024)              0         \n",
      "_________________________________________________________________\n",
      "dropout_6 (Dropout)          (None, 1024)              0         \n",
      "_________________________________________________________________\n",
      "dense_9 (Dense)              (None, 30)                30750     \n",
      "_________________________________________________________________\n",
      "activation_18 (Activation)   (None, 30)                0         \n",
      "=================================================================\n",
      "Total params: 20,049,918\n",
      "Trainable params: 20,049,918\n",
      "Non-trainable params: 0\n",
      "_________________________________________________________________\n"
     ]
    }
   ],
   "source": [
    "model.summary()"
   ]
  },
  {
   "cell_type": "code",
   "execution_count": 12,
   "metadata": {},
   "outputs": [],
   "source": [
    "img_width, img_height = 150, 150\n",
    "\n",
    "top_model_weights_path = 'bottleneck_fc_model.h5'\n",
    "train_data_dir = 'data/train'\n",
    "validation_data_dir = 'data/validation'\n",
    "test_data_dir = 'data/test'\n",
    "\n",
    "nb_train_samples = 13000\n",
    "# nb_validation_samples = 5000\n",
    "epochs = 20\n",
    "batch_size = 64"
   ]
  },
  {
   "cell_type": "code",
   "execution_count": 13,
   "metadata": {},
   "outputs": [
    {
     "name": "stdout",
     "output_type": "stream",
     "text": [
      "Found 13000 images belonging to 30 classes.\n"
     ]
    }
   ],
   "source": [
    "batch_size = 64\n",
    "\n",
    "# this is the augmentation configuration we will use for training\n",
    "train_datagen = ImageDataGenerator(\n",
    "        rescale=1./255,\n",
    "        shear_range=0.2,\n",
    "        zoom_range=0.2,\n",
    "        horizontal_flip=True)\n",
    "\n",
    "# this is the augmentation configuration we will use for testing:\n",
    "# only rescaling\n",
    "test_datagen = ImageDataGenerator(rescale=1./255)\n",
    "\n",
    "# this is a generator that will read pictures found in\n",
    "# subfolers of 'data/train', and indefinitely generate\n",
    "# batches of augmented image data\n",
    "train_generator = train_datagen.flow_from_directory(\n",
    "        'data/train',  # this is the target directory\n",
    "        target_size=(150, 150),  # all images will be resized to 150x150\n",
    "        batch_size=batch_size,\n",
    "        class_mode='categorical', \n",
    "        shuffle=True,\n",
    "        seed = 42)  # since we use binary_crossentropy loss, we need binary labels"
   ]
  },
  {
   "cell_type": "code",
   "execution_count": 25,
   "metadata": {},
   "outputs": [
    {
     "name": "stdout",
     "output_type": "stream",
     "text": [
      "Epoch 1/30\n",
      "203/203 [==============================] - 174s 855ms/step - loss: 2.2503 - acc: 0.3511\n",
      "Epoch 2/30\n",
      "203/203 [==============================] - 174s 856ms/step - loss: 2.1263 - acc: 0.3871\n",
      "Epoch 3/30\n",
      "203/203 [==============================] - 174s 857ms/step - loss: 1.9913 - acc: 0.4220\n",
      "Epoch 4/30\n",
      "203/203 [==============================] - 174s 857ms/step - loss: 1.8699 - acc: 0.4531\n",
      "Epoch 5/30\n",
      "203/203 [==============================] - 174s 858ms/step - loss: 1.7825 - acc: 0.4751\n",
      "Epoch 6/30\n",
      "203/203 [==============================] - 174s 857ms/step - loss: 1.6656 - acc: 0.5069\n",
      "Epoch 7/30\n",
      "203/203 [==============================] - 174s 858ms/step - loss: 1.5675 - acc: 0.5363\n",
      "Epoch 8/30\n",
      "203/203 [==============================] - 174s 856ms/step - loss: 1.4775 - acc: 0.5640\n",
      "Epoch 9/30\n",
      "203/203 [==============================] - 174s 858ms/step - loss: 1.3876 - acc: 0.5901\n",
      "Epoch 10/30\n",
      "203/203 [==============================] - 174s 857ms/step - loss: 1.2812 - acc: 0.6161\n",
      "Epoch 11/30\n",
      "203/203 [==============================] - 174s 857ms/step - loss: 1.2380 - acc: 0.6290\n",
      "Epoch 12/30\n",
      "203/203 [==============================] - 175s 862ms/step - loss: 1.1489 - acc: 0.6531\n",
      "Epoch 13/30\n",
      "203/203 [==============================] - 173s 853ms/step - loss: 1.0827 - acc: 0.6697\n",
      "Epoch 14/30\n",
      "203/203 [==============================] - 174s 858ms/step - loss: 1.0346 - acc: 0.6815\n",
      "Epoch 15/30\n",
      "203/203 [==============================] - 174s 858ms/step - loss: 0.9466 - acc: 0.7106\n",
      "Epoch 16/30\n",
      "203/203 [==============================] - 175s 860ms/step - loss: 0.8845 - acc: 0.7315\n",
      "Epoch 17/30\n",
      "203/203 [==============================] - 173s 854ms/step - loss: 0.8751 - acc: 0.7358\n",
      "Epoch 18/30\n",
      "203/203 [==============================] - 174s 856ms/step - loss: 0.8288 - acc: 0.7441\n",
      "Epoch 19/30\n",
      "203/203 [==============================] - 174s 859ms/step - loss: 0.7674 - acc: 0.7628\n",
      "Epoch 20/30\n",
      "203/203 [==============================] - 174s 857ms/step - loss: 0.7232 - acc: 0.7747\n",
      "Epoch 21/30\n",
      "203/203 [==============================] - 174s 857ms/step - loss: 0.7022 - acc: 0.7860\n",
      "Epoch 22/30\n",
      "203/203 [==============================] - 174s 857ms/step - loss: 0.6685 - acc: 0.7957\n",
      "Epoch 23/30\n",
      "203/203 [==============================] - 174s 858ms/step - loss: 0.6742 - acc: 0.7962\n",
      "Epoch 24/30\n",
      "203/203 [==============================] - 173s 855ms/step - loss: 0.6065 - acc: 0.8132\n",
      "Epoch 25/30\n",
      "203/203 [==============================] - 174s 856ms/step - loss: 0.5883 - acc: 0.8176\n",
      "Epoch 26/30\n",
      "203/203 [==============================] - 174s 857ms/step - loss: 0.5967 - acc: 0.8157\n",
      "Epoch 27/30\n",
      "203/203 [==============================] - 174s 857ms/step - loss: 0.5336 - acc: 0.8352\n",
      "Epoch 28/30\n",
      "203/203 [==============================] - 174s 857ms/step - loss: 0.5182 - acc: 0.8389\n",
      "Epoch 29/30\n",
      "203/203 [==============================] - 174s 856ms/step - loss: 0.5056 - acc: 0.8423\n",
      "Epoch 30/30\n",
      "203/203 [==============================] - 173s 854ms/step - loss: 0.5097 - acc: 0.8428\n"
     ]
    }
   ],
   "source": [
    "history = model.fit_generator(\n",
    "        train_generator,\n",
    "        steps_per_epoch=13000 // batch_size,\n",
    "        epochs=30)"
   ]
  },
  {
   "cell_type": "code",
   "execution_count": 26,
   "metadata": {},
   "outputs": [
    {
     "data": {
      "image/png": "[encoded data removed]",
      "text/plain": [
       "<Figure size 432x288 with 2 Axes>"
      ]
     },
     "metadata": {},
     "output_type": "display_data"
    }
   ],
   "source": [
    "plt.figure(1)  \n",
    "\n",
    "# summarize history for accuracy  \n",
    "\n",
    "plt.subplot(211)  \n",
    "plt.plot(history.history['acc'])  \n",
    "# plt.plot(history.history['val_acc'])  \n",
    "plt.title('model accuracy')  \n",
    "plt.ylabel('accuracy')  \n",
    "plt.xlabel('epoch')  \n",
    "plt.legend(['train', 'test'], loc='upper left')  \n",
    "\n",
    "# summarize history for loss  \n",
    "\n",
    "plt.subplot(212)  \n",
    "plt.plot(history.history['loss'])  \n",
    "# plt.plot(history.history['val_loss'])  \n",
    "plt.title('model loss')  \n",
    "plt.ylabel('loss')  \n",
    "plt.xlabel('epoch')  \n",
    "plt.legend(['train', 'test'], loc='upper left')  \n",
    "plt.show()"
   ]
  },
  {
   "cell_type": "code",
   "execution_count": null,
   "metadata": {},
   "outputs": [],
   "source": []
  },
  {
   "cell_type": "markdown",
   "metadata": {},
   "source": [
    "### Making the prediction for test dataset"
   ]
  },
  {
   "cell_type": "code",
   "execution_count": 27,
   "metadata": {},
   "outputs": [
    {
     "name": "stdout",
     "output_type": "stream",
     "text": [
      "Found 6000 images belonging to 1 classes.\n"
     ]
    }
   ],
   "source": [
    "test_generator = test_datagen.flow_from_directory(\n",
    "    directory=\"data/test\",\n",
    "    target_size=(150, 150),\n",
    "    batch_size=1,\n",
    "    class_mode=None,\n",
    "    shuffle=False,\n",
    "    seed=42\n",
    ")"
   ]
  },
  {
   "cell_type": "code",
   "execution_count": 28,
   "metadata": {},
   "outputs": [
    {
     "name": "stdout",
     "output_type": "stream",
     "text": [
      "6000/6000 [==============================] - 67s 11ms/step\n"
     ]
    }
   ],
   "source": [
    "test_generator.reset()\n",
    "pred=model.predict_generator(test_generator,verbose=1)"
   ]
  },
  {
   "cell_type": "code",
   "execution_count": 29,
   "metadata": {},
   "outputs": [
    {
     "data": {
      "text/plain": [
       "array([2.0969827e-10, 3.3172444e-07, 1.8548549e-08, 1.8983506e-10,\n",
       "       9.8909956e-01, 9.1493341e-12, 1.2112446e-10, 8.0359740e-08,\n",
       "       3.6034622e-13, 3.0266997e-11, 3.9163725e-03, 4.6920068e-06,\n",
       "       1.0658878e-07, 5.3793857e-12, 1.9019263e-08, 3.0758817e-04,\n",
       "       4.2720286e-11, 5.1465241e-07, 6.6674408e-03, 3.8587935e-11,\n",
       "       2.4569027e-09, 2.4130977e-13, 2.3643425e-07, 5.7925451e-08,\n",
       "       2.4208971e-10, 4.1754790e-15, 3.7352070e-12, 2.8710672e-06,\n",
       "       9.3550350e-09, 1.7659390e-12], dtype=float32)"
      ]
     },
     "execution_count": 29,
     "metadata": {},
     "output_type": "execute_result"
    }
   ],
   "source": [
    "pred[0]"
   ]
  },
  {
   "cell_type": "code",
   "execution_count": 30,
   "metadata": {},
   "outputs": [
    {
     "data": {
      "text/plain": [
       "{'antelope': 0,\n",
       " 'bat': 1,\n",
       " 'beaver': 2,\n",
       " 'bobcat': 3,\n",
       " 'buffalo': 4,\n",
       " 'chihuahua': 5,\n",
       " 'chimpanzee': 6,\n",
       " 'collie': 7,\n",
       " 'dalmatian': 8,\n",
       " 'german+shepherd': 9,\n",
       " 'grizzly+bear': 10,\n",
       " 'hippopotamus': 11,\n",
       " 'horse': 12,\n",
       " 'killer+whale': 13,\n",
       " 'mole': 14,\n",
       " 'moose': 15,\n",
       " 'mouse': 16,\n",
       " 'otter': 17,\n",
       " 'ox': 18,\n",
       " 'persian+cat': 19,\n",
       " 'raccoon': 20,\n",
       " 'rat': 21,\n",
       " 'rhinoceros': 22,\n",
       " 'seal': 23,\n",
       " 'siamese+cat': 24,\n",
       " 'spider+monkey': 25,\n",
       " 'squirrel': 26,\n",
       " 'walrus': 27,\n",
       " 'weasel': 28,\n",
       " 'wolf': 29}"
      ]
     },
     "execution_count": 30,
     "metadata": {},
     "output_type": "execute_result"
    }
   ],
   "source": [
    "train_generator.class_indices"
   ]
  },
  {
   "cell_type": "code",
   "execution_count": 31,
   "metadata": {},
   "outputs": [],
   "source": [
    "filenames=test_generator.filenames"
   ]
  },
  {
   "cell_type": "code",
   "execution_count": 32,
   "metadata": {},
   "outputs": [],
   "source": [
    "results=pd.DataFrame({\"filename\":filenames})\n",
    "results.to_csv(\"results/filenames.csv\",index=False)"
   ]
  },
  {
   "cell_type": "code",
   "execution_count": 33,
   "metadata": {},
   "outputs": [],
   "source": [
    "results=pd.DataFrame(pred)\n",
    "results.to_csv(\"results/results_cnn_scratch.csv\",index=False)"
   ]
  },
  {
   "cell_type": "code",
   "execution_count": 34,
   "metadata": {},
   "outputs": [],
   "source": [
    "# model.save_weights('cnn_scratch_33_epochs.h5')"
   ]
  },
  {
   "cell_type": "code",
   "execution_count": null,
   "metadata": {},
   "outputs": [],
   "source": []
  },
  {
   "cell_type": "code",
   "execution_count": null,
   "metadata": {},
   "outputs": [],
   "source": []
  },
  {
   "cell_type": "code",
   "execution_count": null,
   "metadata": {},
   "outputs": [],
   "source": []
  },
  {
   "cell_type": "code",
   "execution_count": null,
   "metadata": {},
   "outputs": [],
   "source": []
  },
  {
   "cell_type": "code",
   "execution_count": null,
   "metadata": {},
   "outputs": [],
   "source": []
  },
  {
   "cell_type": "code",
   "execution_count": null,
   "metadata": {},
   "outputs": [],
   "source": []
  }
 ],
 "metadata": {
  "kernelspec": {
   "display_name": "Python 3",
   "language": "python",
   "name": "python3"
  },
  "language_info": {
   "codemirror_mode": {
    "name": "ipython",
    "version": 3
   },
   "file_extension": ".py",
   "mimetype": "text/x-python",
   "name": "python",
   "nbconvert_exporter": "python",
   "pygments_lexer": "ipython3",
   "version": "3.6.5"
  }
 },
 "nbformat": 4,
 "nbformat_minor": 2
}
