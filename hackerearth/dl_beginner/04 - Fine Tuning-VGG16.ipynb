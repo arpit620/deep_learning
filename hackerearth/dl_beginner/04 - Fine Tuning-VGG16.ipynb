{
 "cells": [
  {
   "cell_type": "code",
   "execution_count": 1,
   "metadata": {},
   "outputs": [],
   "source": [
    "import os\n",
    "os.environ[\"CUDA_VISIBLE_DEVICES\"]=\"1\""
   ]
  },
  {
   "cell_type": "code",
   "execution_count": 2,
   "metadata": {},
   "outputs": [
    {
     "name": "stderr",
     "output_type": "stream",
     "text": [
      "/home/arpit/anaconda3/envs/tensorflow-gpu/lib/python3.6/site-packages/h5py/__init__.py:36: FutureWarning: Conversion of the second argument of issubdtype from `float` to `np.floating` is deprecated. In future, it will be treated as `np.float64 == np.dtype(float).type`.\n",
      "  from ._conv import register_converters as _register_converters\n",
      "Using TensorFlow backend.\n"
     ]
    }
   ],
   "source": [
    "# Importing the required libraries\n",
    "from keras.models import Sequential\n",
    "from scipy.misc import imread\n",
    "get_ipython().magic('matplotlib inline')\n",
    "import matplotlib.pyplot as plt\n",
    "import numpy as np\n",
    "import keras\n",
    "from keras.layers import Dense\n",
    "import pandas as pd\n",
    "\n",
    "from keras.applications.vgg16 import VGG16\n",
    "from keras.preprocessing import image\n",
    "from keras.applications.vgg16 import preprocess_input\n",
    "import numpy as np\n",
    "from keras.applications.vgg16 import decode_predictions\n",
    "from keras.utils.np_utils import to_categorical\n",
    "\n",
    "from sklearn.preprocessing import LabelEncoder\n",
    "from keras.models import Sequential\n",
    "from keras.optimizers import SGD\n",
    "from keras.layers import Input, Dense, Convolution2D, MaxPooling2D, AveragePooling2D, ZeroPadding2D, Dropout, Flatten, merge, Reshape, Activation\n",
    "\n",
    "from sklearn.metrics import log_loss\n",
    "from keras.models import Model\n",
    "from keras.utils import multi_gpu_model\n",
    "from keras.preprocessing.image import ImageDataGenerator, img_to_array, load_img \n",
    "from keras.preprocessing.image import ImageDataGenerator"
   ]
  },
  {
   "cell_type": "code",
   "execution_count": 3,
   "metadata": {},
   "outputs": [],
   "source": [
    "num_classes = 30"
   ]
  },
  {
   "cell_type": "code",
   "execution_count": 4,
   "metadata": {},
   "outputs": [],
   "source": [
    "model = VGG16(weights='imagenet', include_top=True)"
   ]
  },
  {
   "cell_type": "code",
   "execution_count": 5,
   "metadata": {},
   "outputs": [
    {
     "name": "stderr",
     "output_type": "stream",
     "text": [
      "/home/arpit/anaconda3/envs/tensorflow-gpu/lib/python3.6/site-packages/ipykernel_launcher.py:4: UserWarning: Update your `Model` call to the Keras 2 API: `Model(inputs=Tensor(\"in..., outputs=Tensor(\"de...)`\n",
      "  after removing the cwd from sys.path.\n"
     ]
    }
   ],
   "source": [
    "model.layers.pop()\n",
    "x = model.layers[-1].output\n",
    "x = Dense(num_classes, activation='softmax')(x)\n",
    "model = Model(input = model.input, output = x)"
   ]
  },
  {
   "cell_type": "code",
   "execution_count": 6,
   "metadata": {},
   "outputs": [
    {
     "name": "stdout",
     "output_type": "stream",
     "text": [
      "_________________________________________________________________\n",
      "Layer (type)                 Output Shape              Param #   \n",
      "=================================================================\n",
      "input_1 (InputLayer)         (None, 224, 224, 3)       0         \n",
      "_________________________________________________________________\n",
      "block1_conv1 (Conv2D)        (None, 224, 224, 64)      1792      \n",
      "_________________________________________________________________\n",
      "block1_conv2 (Conv2D)        (None, 224, 224, 64)      36928     \n",
      "_________________________________________________________________\n",
      "block1_pool (MaxPooling2D)   (None, 112, 112, 64)      0         \n",
      "_________________________________________________________________\n",
      "block2_conv1 (Conv2D)        (None, 112, 112, 128)     73856     \n",
      "_________________________________________________________________\n",
      "block2_conv2 (Conv2D)        (None, 112, 112, 128)     147584    \n",
      "_________________________________________________________________\n",
      "block2_pool (MaxPooling2D)   (None, 56, 56, 128)       0         \n",
      "_________________________________________________________________\n",
      "block3_conv1 (Conv2D)        (None, 56, 56, 256)       295168    \n",
      "_________________________________________________________________\n",
      "block3_conv2 (Conv2D)        (None, 56, 56, 256)       590080    \n",
      "_________________________________________________________________\n",
      "block3_conv3 (Conv2D)        (None, 56, 56, 256)       590080    \n",
      "_________________________________________________________________\n",
      "block3_pool (MaxPooling2D)   (None, 28, 28, 256)       0         \n",
      "_________________________________________________________________\n",
      "block4_conv1 (Conv2D)        (None, 28, 28, 512)       1180160   \n",
      "_________________________________________________________________\n",
      "block4_conv2 (Conv2D)        (None, 28, 28, 512)       2359808   \n",
      "_________________________________________________________________\n",
      "block4_conv3 (Conv2D)        (None, 28, 28, 512)       2359808   \n",
      "_________________________________________________________________\n",
      "block4_pool (MaxPooling2D)   (None, 14, 14, 512)       0         \n",
      "_________________________________________________________________\n",
      "block5_conv1 (Conv2D)        (None, 14, 14, 512)       2359808   \n",
      "_________________________________________________________________\n",
      "block5_conv2 (Conv2D)        (None, 14, 14, 512)       2359808   \n",
      "_________________________________________________________________\n",
      "block5_conv3 (Conv2D)        (None, 14, 14, 512)       2359808   \n",
      "_________________________________________________________________\n",
      "block5_pool (MaxPooling2D)   (None, 7, 7, 512)         0         \n",
      "_________________________________________________________________\n",
      "flatten (Flatten)            (None, 25088)             0         \n",
      "_________________________________________________________________\n",
      "fc1 (Dense)                  (None, 4096)              102764544 \n",
      "_________________________________________________________________\n",
      "fc2 (Dense)                  (None, 4096)              16781312  \n",
      "_________________________________________________________________\n",
      "dense_1 (Dense)              (None, 30)                122910    \n",
      "=================================================================\n",
      "Total params: 134,383,454\n",
      "Trainable params: 134,383,454\n",
      "Non-trainable params: 0\n",
      "_________________________________________________________________\n"
     ]
    }
   ],
   "source": [
    "model.summary()"
   ]
  },
  {
   "cell_type": "code",
   "execution_count": 7,
   "metadata": {},
   "outputs": [],
   "source": [
    "for layer in model.layers[:11]:\n",
    "    layer.trainable = False"
   ]
  },
  {
   "cell_type": "code",
   "execution_count": 8,
   "metadata": {},
   "outputs": [
    {
     "name": "stdout",
     "output_type": "stream",
     "text": [
      "<keras.engine.topology.InputLayer object at 0x7f0562de6198> False\n",
      "<keras.layers.convolutional.Conv2D object at 0x7f0562de65c0> False\n",
      "<keras.layers.convolutional.Conv2D object at 0x7f0562de63c8> False\n",
      "<keras.layers.pooling.MaxPooling2D object at 0x7f0562de6dd8> False\n",
      "<keras.layers.convolutional.Conv2D object at 0x7f054c54bda0> False\n",
      "<keras.layers.convolutional.Conv2D object at 0x7f054c567240> False\n",
      "<keras.layers.pooling.MaxPooling2D object at 0x7f054c4faf28> False\n",
      "<keras.layers.convolutional.Conv2D object at 0x7f054c51f668> False\n",
      "<keras.layers.convolutional.Conv2D object at 0x7f054c51f6d8> False\n",
      "<keras.layers.convolutional.Conv2D object at 0x7f054c4ce550> False\n",
      "<keras.layers.pooling.MaxPooling2D object at 0x7f054c4e2cf8> False\n",
      "<keras.layers.convolutional.Conv2D object at 0x7f054c484710> True\n",
      "<keras.layers.convolutional.Conv2D object at 0x7f054c484780> True\n",
      "<keras.layers.convolutional.Conv2D object at 0x7f054c4355c0> True\n",
      "<keras.layers.pooling.MaxPooling2D object at 0x7f054c447d68> True\n",
      "<keras.layers.convolutional.Conv2D object at 0x7f054c3eb7f0> True\n",
      "<keras.layers.convolutional.Conv2D object at 0x7f054c405cf8> True\n",
      "<keras.layers.convolutional.Conv2D object at 0x7f054c418668> True\n",
      "<keras.layers.pooling.MaxPooling2D object at 0x7f054c3acdd8> True\n",
      "<keras.layers.core.Flatten object at 0x7f054c3d0860> True\n",
      "<keras.layers.core.Dense object at 0x7f054c36bd68> True\n",
      "<keras.layers.core.Dense object at 0x7f054c392400> True\n",
      "<keras.layers.core.Dense object at 0x7f054c18d278> True\n"
     ]
    }
   ],
   "source": [
    "\n",
    "# Check the trainable status of the individual layers# Check  # Check  \n",
    "for layer in model.layers:\n",
    "    print(layer, layer.trainable)"
   ]
  },
  {
   "cell_type": "code",
   "execution_count": 9,
   "metadata": {},
   "outputs": [],
   "source": [
    "\n",
    "# Learning rate is changed to 0.001# Learni \n",
    "sgd = SGD(lr=1e-3, decay=1e-6, momentum=0.9, nesterov=True)\n",
    "\n",
    "model.compile(optimizer=sgd, loss='categorical_crossentropy', metrics=['accuracy'])"
   ]
  },
  {
   "cell_type": "code",
   "execution_count": 10,
   "metadata": {},
   "outputs": [
    {
     "name": "stdout",
     "output_type": "stream",
     "text": [
      "_________________________________________________________________\n",
      "Layer (type)                 Output Shape              Param #   \n",
      "=================================================================\n",
      "input_1 (InputLayer)         (None, 224, 224, 3)       0         \n",
      "_________________________________________________________________\n",
      "block1_conv1 (Conv2D)        (None, 224, 224, 64)      1792      \n",
      "_________________________________________________________________\n",
      "block1_conv2 (Conv2D)        (None, 224, 224, 64)      36928     \n",
      "_________________________________________________________________\n",
      "block1_pool (MaxPooling2D)   (None, 112, 112, 64)      0         \n",
      "_________________________________________________________________\n",
      "block2_conv1 (Conv2D)        (None, 112, 112, 128)     73856     \n",
      "_________________________________________________________________\n",
      "block2_conv2 (Conv2D)        (None, 112, 112, 128)     147584    \n",
      "_________________________________________________________________\n",
      "block2_pool (MaxPooling2D)   (None, 56, 56, 128)       0         \n",
      "_________________________________________________________________\n",
      "block3_conv1 (Conv2D)        (None, 56, 56, 256)       295168    \n",
      "_________________________________________________________________\n",
      "block3_conv2 (Conv2D)        (None, 56, 56, 256)       590080    \n",
      "_________________________________________________________________\n",
      "block3_conv3 (Conv2D)        (None, 56, 56, 256)       590080    \n",
      "_________________________________________________________________\n",
      "block3_pool (MaxPooling2D)   (None, 28, 28, 256)       0         \n",
      "_________________________________________________________________\n",
      "block4_conv1 (Conv2D)        (None, 28, 28, 512)       1180160   \n",
      "_________________________________________________________________\n",
      "block4_conv2 (Conv2D)        (None, 28, 28, 512)       2359808   \n",
      "_________________________________________________________________\n",
      "block4_conv3 (Conv2D)        (None, 28, 28, 512)       2359808   \n",
      "_________________________________________________________________\n",
      "block4_pool (MaxPooling2D)   (None, 14, 14, 512)       0         \n",
      "_________________________________________________________________\n",
      "block5_conv1 (Conv2D)        (None, 14, 14, 512)       2359808   \n",
      "_________________________________________________________________\n",
      "block5_conv2 (Conv2D)        (None, 14, 14, 512)       2359808   \n",
      "_________________________________________________________________\n",
      "block5_conv3 (Conv2D)        (None, 14, 14, 512)       2359808   \n",
      "_________________________________________________________________\n",
      "block5_pool (MaxPooling2D)   (None, 7, 7, 512)         0         \n",
      "_________________________________________________________________\n",
      "flatten (Flatten)            (None, 25088)             0         \n",
      "_________________________________________________________________\n",
      "fc1 (Dense)                  (None, 4096)              102764544 \n",
      "_________________________________________________________________\n",
      "fc2 (Dense)                  (None, 4096)              16781312  \n",
      "_________________________________________________________________\n",
      "dense_1 (Dense)              (None, 30)                122910    \n",
      "=================================================================\n",
      "Total params: 134,383,454\n",
      "Trainable params: 132,647,966\n",
      "Non-trainable params: 1,735,488\n",
      "_________________________________________________________________\n"
     ]
    }
   ],
   "source": [
    "model.summary()"
   ]
  },
  {
   "cell_type": "code",
   "execution_count": 11,
   "metadata": {},
   "outputs": [],
   "source": [
    "img_width, img_height = 224, 224\n",
    "\n",
    "top_model_weights_path = 'bottleneck_fc_model.h5'\n",
    "train_data_dir = 'data/train'\n",
    "validation_data_dir = 'data/validation'\n",
    "test_data_dir = 'data/test'\n",
    "\n",
    "nb_train_samples = 13000\n",
    "# nb_validation_samples = 5000\n",
    "epochs = 20\n",
    "batch_size = 64"
   ]
  },
  {
   "cell_type": "code",
   "execution_count": 12,
   "metadata": {},
   "outputs": [
    {
     "name": "stdout",
     "output_type": "stream",
     "text": [
      "Found 13000 images belonging to 30 classes.\n"
     ]
    }
   ],
   "source": [
    "batch_size = 64\n",
    "\n",
    "# this is the augmentation configuration we will use for training\n",
    "train_datagen = ImageDataGenerator(\n",
    "        rescale=1./255,\n",
    "        shear_range=0.2,\n",
    "        zoom_range=0.2,\n",
    "        horizontal_flip=True)\n",
    "\n",
    "# this is the augmentation configuration we will use for testing:\n",
    "# only rescaling\n",
    "test_datagen = ImageDataGenerator(rescale=1./255)\n",
    "\n",
    "# this is a generator that will read pictures found in\n",
    "# subfolers of 'data/train', and indefinitely generate\n",
    "# batches of augmented image data\n",
    "train_generator = train_datagen.flow_from_directory(\n",
    "        'data/train',  # this is the target directory\n",
    "        target_size=(224, 224),  # all images will be resized to 150x150\n",
    "        batch_size=batch_size,\n",
    "        class_mode='categorical', \n",
    "        shuffle=True,\n",
    "        seed = 42)  # since we use binary_crossentropy loss, we need binary labels"
   ]
  },
  {
   "cell_type": "code",
   "execution_count": 13,
   "metadata": {},
   "outputs": [
    {
     "name": "stdout",
     "output_type": "stream",
     "text": [
      "WARNING:tensorflow:Variable *= will be deprecated. Use variable.assign_mul if you want assignment to the variable value or 'x = x * y' if you want a new python Tensor object.\n",
      "Epoch 1/100\n",
      "203/203 [==============================] - 292s 1s/step - loss: 1.7168 - acc: 0.5106\n",
      "Epoch 2/100\n",
      "203/203 [==============================] - 263s 1s/step - loss: 0.7595 - acc: 0.7655\n",
      "Epoch 3/100\n",
      "203/203 [==============================] - 244s 1s/step - loss: 0.5543 - acc: 0.8278\n",
      "Epoch 4/100\n",
      "203/203 [==============================] - 244s 1s/step - loss: 0.4154 - acc: 0.8684\n",
      "Epoch 5/100\n",
      "203/203 [==============================] - 244s 1s/step - loss: 0.3332 - acc: 0.8934\n",
      "Epoch 6/100\n",
      "203/203 [==============================] - 244s 1s/step - loss: 0.2652 - acc: 0.9162\n",
      "Epoch 7/100\n",
      "203/203 [==============================] - 244s 1s/step - loss: 0.2149 - acc: 0.9315\n",
      "Epoch 8/100\n",
      "203/203 [==============================] - 244s 1s/step - loss: 0.1572 - acc: 0.9495\n",
      "Epoch 9/100\n",
      "203/203 [==============================] - 244s 1s/step - loss: 0.1249 - acc: 0.9596\n",
      "Epoch 10/100\n",
      "203/203 [==============================] - 243s 1s/step - loss: 0.1242 - acc: 0.9621\n",
      "Epoch 11/100\n",
      "203/203 [==============================] - 243s 1s/step - loss: 0.0846 - acc: 0.9735\n",
      "Epoch 12/100\n",
      "203/203 [==============================] - 243s 1s/step - loss: 0.0839 - acc: 0.9741\n",
      "Epoch 13/100\n",
      "203/203 [==============================] - 243s 1s/step - loss: 0.0644 - acc: 0.9801\n",
      "Epoch 14/100\n",
      "203/203 [==============================] - 243s 1s/step - loss: 0.0491 - acc: 0.9861\n",
      "Epoch 15/100\n",
      "203/203 [==============================] - 243s 1s/step - loss: 0.0455 - acc: 0.9865\n",
      "Epoch 16/100\n",
      "203/203 [==============================] - 243s 1s/step - loss: 0.0368 - acc: 0.9890\n",
      "Epoch 17/100\n",
      "203/203 [==============================] - 244s 1s/step - loss: 0.0316 - acc: 0.9913\n",
      "Epoch 18/100\n",
      "203/203 [==============================] - 244s 1s/step - loss: 0.0274 - acc: 0.9921\n",
      "Epoch 19/100\n",
      "203/203 [==============================] - 247s 1s/step - loss: 0.0239 - acc: 0.9935\n",
      "Epoch 20/100\n",
      "203/203 [==============================] - 243s 1s/step - loss: 0.0237 - acc: 0.9935\n",
      "Epoch 21/100\n",
      "203/203 [==============================] - 243s 1s/step - loss: 0.0219 - acc: 0.9951\n",
      "Epoch 22/100\n",
      "203/203 [==============================] - 244s 1s/step - loss: 0.0243 - acc: 0.9931\n",
      "Epoch 23/100\n",
      "203/203 [==============================] - 243s 1s/step - loss: 0.0166 - acc: 0.9959\n",
      "Epoch 24/100\n",
      "203/203 [==============================] - 243s 1s/step - loss: 0.0163 - acc: 0.9958\n",
      "Epoch 25/100\n",
      "203/203 [==============================] - 244s 1s/step - loss: 0.0182 - acc: 0.9952\n",
      "Epoch 26/100\n",
      "203/203 [==============================] - 242s 1s/step - loss: 0.0165 - acc: 0.9954\n",
      "Epoch 27/100\n",
      "203/203 [==============================] - 244s 1s/step - loss: 0.0209 - acc: 0.9939\n",
      "Epoch 28/100\n",
      "203/203 [==============================] - 243s 1s/step - loss: 0.0098 - acc: 0.9966\n",
      "Epoch 29/100\n",
      "203/203 [==============================] - 243s 1s/step - loss: 0.0052 - acc: 0.9988\n",
      "Epoch 30/100\n",
      "203/203 [==============================] - 244s 1s/step - loss: 0.0130 - acc: 0.9965\n",
      "Epoch 31/100\n",
      "203/203 [==============================] - 244s 1s/step - loss: 0.0094 - acc: 0.9978\n",
      "Epoch 32/100\n",
      "203/203 [==============================] - 244s 1s/step - loss: 0.0086 - acc: 0.9981\n",
      "Epoch 33/100\n",
      "203/203 [==============================] - 244s 1s/step - loss: 0.0102 - acc: 0.9971\n",
      "Epoch 34/100\n",
      "203/203 [==============================] - 244s 1s/step - loss: 0.0085 - acc: 0.9978\n",
      "Epoch 35/100\n",
      "203/203 [==============================] - 244s 1s/step - loss: 0.0075 - acc: 0.9982\n",
      "Epoch 36/100\n",
      "203/203 [==============================] - 243s 1s/step - loss: 0.0157 - acc: 0.9955\n",
      "Epoch 37/100\n",
      "203/203 [==============================] - 244s 1s/step - loss: 0.0041 - acc: 0.9993\n",
      "Epoch 38/100\n",
      "203/203 [==============================] - 245s 1s/step - loss: 0.0102 - acc: 0.9969\n",
      "Epoch 39/100\n",
      "203/203 [==============================] - 243s 1s/step - loss: 0.0070 - acc: 0.9983\n",
      "Epoch 40/100\n",
      "203/203 [==============================] - 244s 1s/step - loss: 0.0023 - acc: 0.9996\n",
      "Epoch 41/100\n",
      "203/203 [==============================] - 243s 1s/step - loss: 0.0017 - acc: 0.9998\n",
      "Epoch 42/100\n",
      "203/203 [==============================] - 244s 1s/step - loss: 0.0023 - acc: 0.9997\n",
      "Epoch 43/100\n",
      "203/203 [==============================] - 243s 1s/step - loss: 0.0022 - acc: 0.9995\n",
      "Epoch 44/100\n",
      "203/203 [==============================] - 244s 1s/step - loss: 0.0026 - acc: 0.9995\n",
      "Epoch 45/100\n",
      "203/203 [==============================] - 244s 1s/step - loss: 0.0015 - acc: 0.9998\n",
      "Epoch 46/100\n",
      "203/203 [==============================] - 243s 1s/step - loss: 0.0041 - acc: 0.9988\n",
      "Epoch 47/100\n",
      "203/203 [==============================] - 243s 1s/step - loss: 0.0096 - acc: 0.9974\n",
      "Epoch 48/100\n",
      "203/203 [==============================] - 243s 1s/step - loss: 0.0073 - acc: 0.9979\n",
      "Epoch 49/100\n",
      "203/203 [==============================] - 243s 1s/step - loss: 0.0033 - acc: 0.9993\n",
      "Epoch 50/100\n",
      "203/203 [==============================] - 245s 1s/step - loss: 0.0030 - acc: 0.9992\n",
      "Epoch 51/100\n",
      "203/203 [==============================] - 242s 1s/step - loss: 0.0016 - acc: 0.9998\n",
      "Epoch 52/100\n",
      "203/203 [==============================] - 246s 1s/step - loss: 4.4613e-04 - acc: 1.0000\n",
      "Epoch 53/100\n",
      "203/203 [==============================] - 242s 1s/step - loss: 0.0012 - acc: 0.9998\n",
      "Epoch 54/100\n",
      "203/203 [==============================] - 244s 1s/step - loss: 0.0021 - acc: 0.9995\n",
      "Epoch 55/100\n",
      "203/203 [==============================] - 245s 1s/step - loss: 0.0050 - acc: 0.9987\n",
      "Epoch 56/100\n",
      "203/203 [==============================] - 241s 1s/step - loss: 0.0069 - acc: 0.9982\n",
      "Epoch 57/100\n",
      "203/203 [==============================] - 243s 1s/step - loss: 0.0047 - acc: 0.9989\n",
      "Epoch 58/100\n",
      "203/203 [==============================] - 243s 1s/step - loss: 0.0015 - acc: 0.9997\n",
      "Epoch 59/100\n",
      "203/203 [==============================] - 244s 1s/step - loss: 0.0037 - acc: 0.9988\n",
      "Epoch 60/100\n",
      "203/203 [==============================] - 244s 1s/step - loss: 0.0027 - acc: 0.9995\n",
      "Epoch 61/100\n",
      "203/203 [==============================] - 241s 1s/step - loss: 0.0021 - acc: 0.9996\n",
      "Epoch 62/100\n",
      "203/203 [==============================] - 243s 1s/step - loss: 0.0019 - acc: 0.9998\n",
      "Epoch 63/100\n",
      "203/203 [==============================] - 244s 1s/step - loss: 7.4147e-04 - acc: 0.9998\n",
      "Epoch 64/100\n",
      "203/203 [==============================] - 244s 1s/step - loss: 0.0019 - acc: 0.9996\n",
      "Epoch 65/100\n",
      "203/203 [==============================] - 243s 1s/step - loss: 0.0022 - acc: 0.9995\n",
      "Epoch 66/100\n",
      "203/203 [==============================] - 246s 1s/step - loss: 0.0054 - acc: 0.9985\n",
      "Epoch 67/100\n",
      "203/203 [==============================] - 244s 1s/step - loss: 9.1477e-04 - acc: 0.9998\n",
      "Epoch 68/100\n",
      "203/203 [==============================] - 243s 1s/step - loss: 0.0014 - acc: 0.9998\n",
      "Epoch 69/100\n",
      "203/203 [==============================] - 245s 1s/step - loss: 6.8242e-04 - acc: 0.9998\n",
      "Epoch 70/100\n",
      "203/203 [==============================] - 243s 1s/step - loss: 0.0022 - acc: 0.9995\n",
      "Epoch 71/100\n",
      "203/203 [==============================] - 242s 1s/step - loss: 3.9851e-04 - acc: 0.9998\n",
      "Epoch 72/100\n",
      "203/203 [==============================] - 244s 1s/step - loss: 9.5710e-04 - acc: 0.9997\n",
      "Epoch 73/100\n",
      "203/203 [==============================] - 245s 1s/step - loss: 9.7486e-04 - acc: 0.9998\n",
      "Epoch 74/100\n",
      "203/203 [==============================] - 244s 1s/step - loss: 0.0012 - acc: 0.9996\n",
      "Epoch 75/100\n",
      "203/203 [==============================] - 243s 1s/step - loss: 0.0015 - acc: 0.9997\n",
      "Epoch 76/100\n",
      "203/203 [==============================] - 243s 1s/step - loss: 8.0676e-04 - acc: 0.9998\n",
      "Epoch 77/100\n",
      "203/203 [==============================] - 243s 1s/step - loss: 4.6659e-04 - acc: 0.9998\n",
      "Epoch 78/100\n",
      "203/203 [==============================] - 244s 1s/step - loss: 0.0012 - acc: 0.9996\n",
      "Epoch 79/100\n",
      "203/203 [==============================] - 243s 1s/step - loss: 4.7155e-04 - acc: 0.9998\n",
      "Epoch 80/100\n",
      "203/203 [==============================] - 244s 1s/step - loss: 0.0016 - acc: 0.9994\n",
      "Epoch 81/100\n",
      "203/203 [==============================] - 243s 1s/step - loss: 7.1445e-04 - acc: 0.9998\n",
      "Epoch 82/100\n",
      "203/203 [==============================] - 244s 1s/step - loss: 0.0036 - acc: 0.9986\n",
      "Epoch 83/100\n",
      "203/203 [==============================] - 242s 1s/step - loss: 0.0050 - acc: 0.9986\n",
      "Epoch 84/100\n",
      "203/203 [==============================] - 243s 1s/step - loss: 0.0072 - acc: 0.9971\n",
      "Epoch 85/100\n",
      "203/203 [==============================] - 245s 1s/step - loss: 0.0024 - acc: 0.9995\n",
      "Epoch 86/100\n",
      "203/203 [==============================] - 243s 1s/step - loss: 9.5812e-04 - acc: 0.9997\n",
      "Epoch 87/100\n",
      "203/203 [==============================] - 244s 1s/step - loss: 0.0037 - acc: 0.9991\n",
      "Epoch 88/100\n",
      "203/203 [==============================] - 246s 1s/step - loss: 0.0032 - acc: 0.9990\n",
      "Epoch 89/100\n",
      "203/203 [==============================] - 243s 1s/step - loss: 6.1220e-04 - acc: 0.9999\n",
      "Epoch 90/100\n",
      "203/203 [==============================] - 243s 1s/step - loss: 7.4568e-04 - acc: 0.9998\n",
      "Epoch 91/100\n",
      "203/203 [==============================] - 243s 1s/step - loss: 4.7628e-04 - acc: 0.9999\n",
      "Epoch 92/100\n",
      "203/203 [==============================] - 244s 1s/step - loss: 0.0014 - acc: 0.9995\n",
      "Epoch 93/100\n",
      "203/203 [==============================] - 243s 1s/step - loss: 2.8176e-04 - acc: 1.0000\n",
      "Epoch 94/100\n",
      "203/203 [==============================] - 244s 1s/step - loss: 0.0010 - acc: 0.9998\n",
      "Epoch 95/100\n",
      "203/203 [==============================] - 243s 1s/step - loss: 8.9134e-04 - acc: 0.9998\n",
      "Epoch 96/100\n",
      "203/203 [==============================] - 245s 1s/step - loss: 7.0759e-04 - acc: 0.9997\n",
      "Epoch 97/100\n",
      "203/203 [==============================] - 244s 1s/step - loss: 0.0010 - acc: 0.9997\n",
      "Epoch 98/100\n",
      "203/203 [==============================] - 243s 1s/step - loss: 0.0044 - acc: 0.9987\n",
      "Epoch 99/100\n",
      "203/203 [==============================] - 244s 1s/step - loss: 7.8142e-04 - acc: 0.9998\n",
      "Epoch 100/100\n",
      "203/203 [==============================] - 244s 1s/step - loss: 0.0026 - acc: 0.9992\n"
     ]
    }
   ],
   "source": [
    "history = model.fit_generator(\n",
    "        train_generator,\n",
    "        steps_per_epoch=13000 // batch_size,\n",
    "        epochs=100)"
   ]
  },
  {
   "cell_type": "code",
   "execution_count": 14,
   "metadata": {},
   "outputs": [
    {
     "data": {
      "image/png": "[encoded data removed]",
      "text/plain": [
       "<Figure size 432x288 with 2 Axes>"
      ]
     },
     "metadata": {},
     "output_type": "display_data"
    }
   ],
   "source": [
    "plt.figure(1)  \n",
    "\n",
    "# summarize history for accuracy  \n",
    "\n",
    "plt.subplot(211)  \n",
    "plt.plot(history.history['acc'])  \n",
    "# plt.plot(history.history['val_acc'])  \n",
    "plt.title('model accuracy')  \n",
    "plt.ylabel('accuracy')  \n",
    "plt.xlabel('epoch')  \n",
    "plt.legend(['train', 'test'], loc='upper left')  \n",
    "\n",
    "# summarize history for loss  \n",
    "\n",
    "plt.subplot(212)  \n",
    "plt.plot(history.history['loss'])  \n",
    "# plt.plot(history.history['val_loss'])  \n",
    "plt.title('model loss')  \n",
    "plt.ylabel('loss')  \n",
    "plt.xlabel('epoch')  \n",
    "plt.legend(['train', 'test'], loc='upper left')  \n",
    "plt.show()"
   ]
  },
  {
   "cell_type": "code",
   "execution_count": 15,
   "metadata": {},
   "outputs": [],
   "source": [
    "# model.save_weights('vgg16_fine_tune_100_epochs.h5')"
   ]
  },
  {
   "cell_type": "code",
   "execution_count": null,
   "metadata": {},
   "outputs": [],
   "source": []
  },
  {
   "cell_type": "markdown",
   "metadata": {},
   "source": [
    "### Making the prediction for test dataset"
   ]
  },
  {
   "cell_type": "code",
   "execution_count": 16,
   "metadata": {},
   "outputs": [
    {
     "name": "stdout",
     "output_type": "stream",
     "text": [
      "Found 6000 images belonging to 1 classes.\n"
     ]
    }
   ],
   "source": [
    "test_generator = test_datagen.flow_from_directory(\n",
    "    directory=\"data/test\",\n",
    "    target_size=(224, 224),\n",
    "    batch_size=1,\n",
    "    class_mode=None,\n",
    "    shuffle=False,\n",
    "    seed=42\n",
    ")"
   ]
  },
  {
   "cell_type": "code",
   "execution_count": 17,
   "metadata": {},
   "outputs": [
    {
     "name": "stdout",
     "output_type": "stream",
     "text": [
      "6000/6000 [==============================] - 93s 15ms/step\n"
     ]
    }
   ],
   "source": [
    "test_generator.reset()\n",
    "pred=model.predict_generator(test_generator,verbose=1)"
   ]
  },
  {
   "cell_type": "code",
   "execution_count": 18,
   "metadata": {},
   "outputs": [
    {
     "data": {
      "text/plain": [
       "array([9.4490052e-17, 8.1873907e-17, 5.0985748e-12, 1.8803351e-16,\n",
       "       9.9999988e-01, 1.3142322e-18, 2.2674232e-10, 1.8866966e-13,\n",
       "       5.8655920e-16, 2.0080314e-15, 1.2431751e-07, 7.8285663e-11,\n",
       "       3.5175132e-13, 2.3191699e-15, 5.9220417e-14, 8.3373766e-11,\n",
       "       6.0689100e-18, 2.4610117e-17, 1.8625329e-10, 1.2416166e-17,\n",
       "       1.2857291e-14, 4.6918197e-18, 1.6320506e-08, 7.2178807e-17,\n",
       "       6.5447037e-19, 4.8861916e-17, 5.3937962e-22, 3.2100570e-14,\n",
       "       4.0232540e-20, 2.0181133e-16], dtype=float32)"
      ]
     },
     "execution_count": 18,
     "metadata": {},
     "output_type": "execute_result"
    }
   ],
   "source": [
    "pred[0]"
   ]
  },
  {
   "cell_type": "code",
   "execution_count": 19,
   "metadata": {},
   "outputs": [
    {
     "data": {
      "text/plain": [
       "{'antelope': 0,\n",
       " 'bat': 1,\n",
       " 'beaver': 2,\n",
       " 'bobcat': 3,\n",
       " 'buffalo': 4,\n",
       " 'chihuahua': 5,\n",
       " 'chimpanzee': 6,\n",
       " 'collie': 7,\n",
       " 'dalmatian': 8,\n",
       " 'german+shepherd': 9,\n",
       " 'grizzly+bear': 10,\n",
       " 'hippopotamus': 11,\n",
       " 'horse': 12,\n",
       " 'killer+whale': 13,\n",
       " 'mole': 14,\n",
       " 'moose': 15,\n",
       " 'mouse': 16,\n",
       " 'otter': 17,\n",
       " 'ox': 18,\n",
       " 'persian+cat': 19,\n",
       " 'raccoon': 20,\n",
       " 'rat': 21,\n",
       " 'rhinoceros': 22,\n",
       " 'seal': 23,\n",
       " 'siamese+cat': 24,\n",
       " 'spider+monkey': 25,\n",
       " 'squirrel': 26,\n",
       " 'walrus': 27,\n",
       " 'weasel': 28,\n",
       " 'wolf': 29}"
      ]
     },
     "execution_count": 19,
     "metadata": {},
     "output_type": "execute_result"
    }
   ],
   "source": [
    "train_generator.class_indices"
   ]
  },
  {
   "cell_type": "code",
   "execution_count": 20,
   "metadata": {},
   "outputs": [],
   "source": [
    "filenames=test_generator.filenames"
   ]
  },
  {
   "cell_type": "code",
   "execution_count": 21,
   "metadata": {},
   "outputs": [],
   "source": [
    "results=pd.DataFrame({\"filename\":filenames})\n",
    "results.to_csv(\"results/filenames.csv\",index=False)"
   ]
  },
  {
   "cell_type": "code",
   "execution_count": 22,
   "metadata": {},
   "outputs": [],
   "source": [
    "results=pd.DataFrame(pred)\n",
    "results.to_csv(\"results/results_vgg16_fine_tune.csv\",index=False)"
   ]
  },
  {
   "cell_type": "code",
   "execution_count": null,
   "metadata": {},
   "outputs": [],
   "source": []
  },
  {
   "cell_type": "code",
   "execution_count": null,
   "metadata": {},
   "outputs": [],
   "source": []
  },
  {
   "cell_type": "code",
   "execution_count": null,
   "metadata": {},
   "outputs": [],
   "source": []
  },
  {
   "cell_type": "code",
   "execution_count": null,
   "metadata": {},
   "outputs": [],
   "source": []
  },
  {
   "cell_type": "code",
   "execution_count": null,
   "metadata": {},
   "outputs": [],
   "source": []
  },
  {
   "cell_type": "code",
   "execution_count": null,
   "metadata": {},
   "outputs": [],
   "source": []
  }
 ],
 "metadata": {
  "kernelspec": {
   "display_name": "Python 3",
   "language": "python",
   "name": "python3"
  },
  "language_info": {
   "codemirror_mode": {
    "name": "ipython",
    "version": 3
   },
   "file_extension": ".py",
   "mimetype": "text/x-python",
   "name": "python",
   "nbconvert_exporter": "python",
   "pygments_lexer": "ipython3",
   "version": "3.6.5"
  }
 },
 "nbformat": 4,
 "nbformat_minor": 2
}
