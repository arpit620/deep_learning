{
 "cells": [
  {
   "cell_type": "markdown",
   "metadata": {},
   "source": [
    "### Deep Learning Beginner Challenge\n",
    "\n",
    "Raw data downlaod link: \n",
    "https://hackerearth.com/challenge/competitive/deep-learning-beginner-challenge/machine-learning/predict-the-energy-used-612632a9-9de79188/"
   ]
  },
  {
   "cell_type": "code",
   "execution_count": 1,
   "metadata": {},
   "outputs": [],
   "source": [
    "# Create folder structure for available data"
   ]
  },
  {
   "cell_type": "code",
   "execution_count": 2,
   "metadata": {},
   "outputs": [],
   "source": [
    "from shutil import copyfile, move, rmtree"
   ]
  },
  {
   "cell_type": "code",
   "execution_count": 3,
   "metadata": {},
   "outputs": [],
   "source": [
    "import os\n",
    "import numpy as np\n",
    "import pandas as pd"
   ]
  },
  {
   "cell_type": "code",
   "execution_count": 4,
   "metadata": {},
   "outputs": [],
   "source": [
    "# Location of the data extracted at\n",
    "location='/home/arpit/notebooks/data/hackerearth/dl_beginner'"
   ]
  },
  {
   "cell_type": "code",
   "execution_count": 5,
   "metadata": {},
   "outputs": [],
   "source": [
    "train_raw=pd.read_csv(location + '/meta-data/train.csv')\n",
    "test_raw=pd.read_csv(location + '/meta-data/test.csv')"
   ]
  },
  {
   "cell_type": "code",
   "execution_count": 6,
   "metadata": {},
   "outputs": [
    {
     "data": {
      "text/plain": [
       "(13000, 2)"
      ]
     },
     "execution_count": 6,
     "metadata": {},
     "output_type": "execute_result"
    }
   ],
   "source": [
    "train_raw.shape"
   ]
  },
  {
   "cell_type": "code",
   "execution_count": 7,
   "metadata": {},
   "outputs": [
    {
     "data": {
      "text/plain": [
       "(6000, 1)"
      ]
     },
     "execution_count": 7,
     "metadata": {},
     "output_type": "execute_result"
    }
   ],
   "source": [
    "test_raw.shape"
   ]
  },
  {
   "cell_type": "code",
   "execution_count": 8,
   "metadata": {},
   "outputs": [
    {
     "data": {
      "text/html": [
       "<div>\n",
       "<style scoped>\n",
       "    .dataframe tbody tr th:only-of-type {\n",
       "        vertical-align: middle;\n",
       "    }\n",
       "\n",
       "    .dataframe tbody tr th {\n",
       "        vertical-align: top;\n",
       "    }\n",
       "\n",
       "    .dataframe thead th {\n",
       "        text-align: right;\n",
       "    }\n",
       "</style>\n",
       "<table border=\"1\" class=\"dataframe\">\n",
       "  <thead>\n",
       "    <tr style=\"text-align: right;\">\n",
       "      <th></th>\n",
       "      <th>Image_id</th>\n",
       "      <th>Animal</th>\n",
       "    </tr>\n",
       "  </thead>\n",
       "  <tbody>\n",
       "    <tr>\n",
       "      <th>0</th>\n",
       "      <td>Img-1.jpg</td>\n",
       "      <td>hippopotamus</td>\n",
       "    </tr>\n",
       "    <tr>\n",
       "      <th>1</th>\n",
       "      <td>Img-2.jpg</td>\n",
       "      <td>squirrel</td>\n",
       "    </tr>\n",
       "    <tr>\n",
       "      <th>2</th>\n",
       "      <td>Img-3.jpg</td>\n",
       "      <td>grizzly+bear</td>\n",
       "    </tr>\n",
       "    <tr>\n",
       "      <th>3</th>\n",
       "      <td>Img-4.jpg</td>\n",
       "      <td>ox</td>\n",
       "    </tr>\n",
       "    <tr>\n",
       "      <th>4</th>\n",
       "      <td>Img-5.jpg</td>\n",
       "      <td>german+shepherd</td>\n",
       "    </tr>\n",
       "  </tbody>\n",
       "</table>\n",
       "</div>"
      ],
      "text/plain": [
       "    Image_id           Animal\n",
       "0  Img-1.jpg     hippopotamus\n",
       "1  Img-2.jpg         squirrel\n",
       "2  Img-3.jpg     grizzly+bear\n",
       "3  Img-4.jpg               ox\n",
       "4  Img-5.jpg  german+shepherd"
      ]
     },
     "execution_count": 8,
     "metadata": {},
     "output_type": "execute_result"
    }
   ],
   "source": [
    "train_raw.head()"
   ]
  },
  {
   "cell_type": "code",
   "execution_count": 9,
   "metadata": {},
   "outputs": [
    {
     "data": {
      "text/plain": [
       "horse              1111\n",
       "squirrel            808\n",
       "antelope            695\n",
       "german+shepherd     687\n",
       "collie              680\n",
       "seal                665\n",
       "buffalo             606\n",
       "grizzly+bear        583\n",
       "otter               519\n",
       "ox                  501\n",
       "persian+cat         491\n",
       "rhinoceros          477\n",
       "chimpanzee          477\n",
       "moose               476\n",
       "hippopotamus        464\n",
       "bobcat              418\n",
       "wolf                403\n",
       "chihuahua           386\n",
       "dalmatian           359\n",
       "raccoon             346\n",
       "siamese+cat         341\n",
       "bat                 256\n",
       "rat                 220\n",
       "killer+whale        193\n",
       "spider+monkey       189\n",
       "weasel              184\n",
       "walrus              148\n",
       "beaver              133\n",
       "mouse               124\n",
       "mole                 60\n",
       "Name: Animal, dtype: int64"
      ]
     },
     "execution_count": 9,
     "metadata": {},
     "output_type": "execute_result"
    }
   ],
   "source": [
    "train_raw.Animal.value_counts()"
   ]
  },
  {
   "cell_type": "code",
   "execution_count": 10,
   "metadata": {},
   "outputs": [
    {
     "data": {
      "text/plain": [
       "['hippopotamus',\n",
       " 'squirrel',\n",
       " 'grizzly+bear',\n",
       " 'ox',\n",
       " 'german+shepherd',\n",
       " 'buffalo',\n",
       " 'otter',\n",
       " 'bobcat',\n",
       " 'wolf',\n",
       " 'persian+cat',\n",
       " 'collie',\n",
       " 'antelope',\n",
       " 'seal',\n",
       " 'dalmatian',\n",
       " 'siamese+cat',\n",
       " 'moose',\n",
       " 'horse',\n",
       " 'killer+whale',\n",
       " 'mouse',\n",
       " 'walrus',\n",
       " 'beaver',\n",
       " 'rhinoceros',\n",
       " 'chimpanzee',\n",
       " 'weasel',\n",
       " 'spider+monkey',\n",
       " 'raccoon',\n",
       " 'rat',\n",
       " 'chihuahua',\n",
       " 'mole',\n",
       " 'bat']"
      ]
     },
     "execution_count": 10,
     "metadata": {},
     "output_type": "execute_result"
    }
   ],
   "source": [
    "# Get the list of available classes/ Animals\n",
    "labels = list(train_raw.Animal.unique())\n",
    "labels"
   ]
  },
  {
   "cell_type": "code",
   "execution_count": 11,
   "metadata": {},
   "outputs": [],
   "source": [
    "os.makedirs(\"data/train\")\n",
    "os.makedirs(\"data/validation\")\n",
    "os.makedirs(\"data/test\")"
   ]
  },
  {
   "cell_type": "code",
   "execution_count": 12,
   "metadata": {},
   "outputs": [],
   "source": [
    "# Clean the directories\n",
    "def clean_data():\n",
    "#     os.makedirs(\"data/train\")\n",
    "#     os.makedirs(\"data/validation\")\n",
    "#     os.makedirs(\"data/test\")\n",
    "    rmtree('data/train')\n",
    "    rmtree('data/validation')   \n",
    "    rmtree('data/test')"
   ]
  },
  {
   "cell_type": "code",
   "execution_count": 13,
   "metadata": {},
   "outputs": [],
   "source": [
    "# Creates up the required folder sturcture for train, test, validation\n",
    "def create_folders(labels):\n",
    "\n",
    "    try:\n",
    "        if not os.path.exists(\"data\"):\n",
    "            os.makedirs(\"data/train\")\n",
    "            os.makedirs(\"data/validation\")\n",
    "            os.makedirs(\"data/test\")\n",
    "        for digit in labels:\n",
    "            directory = 'data/train/' + str(digit)\n",
    "            directory_valid = 'data/validation/' + str(digit)\n",
    "            if not os.path.exists(directory):\n",
    "                os.makedirs(directory)\n",
    "            if not os.path.exists(directory_valid):\n",
    "                os.makedirs(directory_valid)\n",
    "        print(\"Successfully created Folder Structure...!!!\")\n",
    "    except:\n",
    "        None"
   ]
  },
  {
   "cell_type": "code",
   "execution_count": 14,
   "metadata": {},
   "outputs": [],
   "source": [
    "# Prepares the training dataset\n",
    "def prepare_data(data, labels, location):\n",
    "    \n",
    "    clean_data()\n",
    "    create_folders(labels)\n",
    "    \n",
    "    for index, row in data.iterrows():\n",
    "        if index % 5000 == 0:\n",
    "            print(\"# Files copied: \" + str(index))\n",
    "        \n",
    "        src_file = location + '/train/' + row[0]\n",
    "        dst_file = 'data/train/' + str(row[1]) + '/' + row[0]\n",
    "        copyfile(src_file, dst_file)\n",
    "        \n",
    "    print(\"Process Complete...!!!\")"
   ]
  },
  {
   "cell_type": "code",
   "execution_count": 15,
   "metadata": {},
   "outputs": [],
   "source": [
    "def file_count(directory):\n",
    "    path, dirs, files = next(os.walk(directory))\n",
    "    file_count = len(files)\n",
    "    print(path, file_count)"
   ]
  },
  {
   "cell_type": "code",
   "execution_count": 16,
   "metadata": {},
   "outputs": [],
   "source": [
    "# Prepare validation dataset\n",
    "def validation_data(valid_count):\n",
    "    for directory in os.listdir('data/train'):\n",
    "        path = 'data/train/' + directory + '/'\n",
    "#         digit = path[-2:-1]\n",
    "        animal = path.split('/')[-2]\n",
    "#         print(animal)\n",
    "#         print(path.split('/'))\n",
    "#         continue\n",
    "        num_files = valid_count    \n",
    "\n",
    "        for index, filename in enumerate(os.listdir(path)):\n",
    "            if index // num_files == 1:\n",
    "                print(\"Copied \" + str(num_files) + \" in data/validation/\" + str(animal) + '/') \n",
    "                break\n",
    "\n",
    "            src_file = path + filename\n",
    "            dst_file = 'data/validation/' + animal + '/' + filename\n",
    "\n",
    "            move(src_file, dst_file)\n"
   ]
  },
  {
   "cell_type": "code",
   "execution_count": 17,
   "metadata": {},
   "outputs": [
    {
     "name": "stdout",
     "output_type": "stream",
     "text": [
      "Successfully created Folder Structure...!!!\n",
      "# Files copied: 0\n",
      "# Files copied: 5000\n",
      "# Files copied: 10000\n",
      "Process Complete...!!!\n",
      "CPU times: user 6.75 s, sys: 9.92 s, total: 16.7 s\n",
      "Wall time: 35.5 s\n"
     ]
    }
   ],
   "source": [
    "%%time\n",
    "prepare_data(train_raw, labels, location)"
   ]
  },
  {
   "cell_type": "code",
   "execution_count": 18,
   "metadata": {},
   "outputs": [],
   "source": [
    "# %%time\n",
    "# validation_data(130)"
   ]
  },
  {
   "cell_type": "code",
   "execution_count": 19,
   "metadata": {},
   "outputs": [],
   "source": [
    "def prepare_test_data(data, location):\n",
    "    \n",
    "    if not os.path.exists(\"data/test/images\"):\n",
    "            os.makedirs(\"data/test/images\")\n",
    "            \n",
    "    for index, row in data.iterrows():\n",
    "        src_file = location + '/test/' + row[0]\n",
    "        dst_file = 'data/test/images/' + row[0]\n",
    "        copyfile(src_file, dst_file)\n",
    "    \n",
    "    print(\"Test data created...!!!\")"
   ]
  },
  {
   "cell_type": "code",
   "execution_count": 20,
   "metadata": {},
   "outputs": [
    {
     "name": "stdout",
     "output_type": "stream",
     "text": [
      "Test data created...!!!\n",
      "CPU times: user 3.01 s, sys: 4.94 s, total: 7.94 s\n",
      "Wall time: 23.7 s\n"
     ]
    }
   ],
   "source": [
    "%%time\n",
    "prepare_test_data(test_raw, location)"
   ]
  },
  {
   "cell_type": "code",
   "execution_count": null,
   "metadata": {},
   "outputs": [],
   "source": []
  },
  {
   "cell_type": "code",
   "execution_count": null,
   "metadata": {},
   "outputs": [],
   "source": []
  }
 ],
 "metadata": {
  "kernelspec": {
   "display_name": "Python 3",
   "language": "python",
   "name": "python3"
  },
  "language_info": {
   "codemirror_mode": {
    "name": "ipython",
    "version": 3
   },
   "file_extension": ".py",
   "mimetype": "text/x-python",
   "name": "python",
   "nbconvert_exporter": "python",
   "pygments_lexer": "ipython3",
   "version": "3.6.5"
  }
 },
 "nbformat": 4,
 "nbformat_minor": 2
}
